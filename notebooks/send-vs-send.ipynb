{
 "cells": [
  {
   "cell_type": "markdown",
   "id": "6d5c510c-7f09-4868-9e9e-145e6a10625b",
   "metadata": {},
   "source": [
    "# Performance measurement and comm.send vs comm.Send\n",
    "\n",
    "When we write parallel code, performance is often a concern.\n",
    "Measuring performance of parallel code can be challenging:\n",
    "\n",
    "- where do we measure?\n",
    "- what do we measure?\n",
    "- how do we make sense of the numbers we've gathered?\n",
    "\n",
    "\n",
    "We are going to use the case study of when/why to use mpi4py's `comm.Send` vs `comm.send` and combine it with tools for profiling and plotting.\n",
    "\n",
    "First, our usual boilerplate to get the cluster going:"
   ]
  },
  {
   "cell_type": "code",
   "execution_count": 1,
   "id": "cb38b8dd-07b7-4f10-8083-78b61b932e51",
   "metadata": {},
   "outputs": [
    {
     "data": {
      "application/vnd.jupyter.widget-view+json": {
       "model_id": "37a6bb7ee25f44c9aa244015d81e114c",
       "version_major": 2,
       "version_minor": 0
      },
      "text/plain": [
       "  0%|          | 0/2 [00:00<?, ?engine/s]"
      ]
     },
     "metadata": {},
     "output_type": "display_data"
    }
   ],
   "source": [
    "import logging\n",
    "import ipyparallel as ipp\n",
    "\n",
    "# create a cluster\n",
    "rc = ipp.Cluster(\n",
    "    engines=\"mpi\",\n",
    "    n=2,\n",
    "    log_level=logging.WARNING,\n",
    ").start_and_connect_sync(activate=True)"
   ]
  },
  {
   "cell_type": "code",
   "execution_count": 2,
   "id": "8256e724-14e6-4a1d-b53e-c3be7de1dd10",
   "metadata": {
    "tags": []
   },
   "outputs": [
    {
     "data": {
      "text/plain": [
       "[stdout:0] I am rank 0 / 2\n"
      ]
     },
     "metadata": {},
     "output_type": "display_data"
    },
    {
     "data": {
      "text/plain": [
       "[stdout:1] I am rank 1 / 2\n"
      ]
     },
     "metadata": {},
     "output_type": "display_data"
    }
   ],
   "source": [
    "%%px\n",
    "# Find out rank, size\n",
    "from mpi4py import MPI\n",
    "\n",
    "comm = MPI.COMM_WORLD\n",
    "rank = comm.rank\n",
    "size = comm.size\n",
    "\n",
    "print(f\"I am rank {rank} / {size}\")"
   ]
  },
  {
   "cell_type": "markdown",
   "id": "f06ed0ef-a9b4-4778-9e1a-6b69345c73f5",
   "metadata": {},
   "source": [
    "We are going to define some functions that implement ping-pong communication:\n",
    "\n",
    "- node 0 sends a message to node 1\n",
    "- node 1 receives it and sends it right back\n",
    "- node 0 receives the reply"
   ]
  },
  {
   "cell_type": "code",
   "execution_count": 3,
   "id": "801de61f-4b6c-410e-888d-abbb7981c382",
   "metadata": {
    "tags": []
   },
   "outputs": [],
   "source": [
    "%%px\n",
    "\n",
    "import time\n",
    "\n",
    "import numpy as np\n",
    "\n",
    "\n",
    "def ping_pong_send(arr):\n",
    "    \"\"\"ping pong implementation with lowercase 'send' and 'recv'\"\"\"\n",
    "    if rank == 0:\n",
    "        comm.send(arr, dest=1)\n",
    "        comm.recv(source=1)\n",
    "    elif rank == 1:\n",
    "        comm.recv(source=0)\n",
    "        comm.send(arr, dest=0)\n",
    "    \n",
    "def ping_pong_Send(arr):\n",
    "    \"\"\"ping pong implementation with pre-allocated 'Send' and 'Recv'\"\"\"\n",
    "    if rank == 0:\n",
    "        comm.Send(arr, dest=1)\n",
    "        comm.Recv(arr, source=1)\n",
    "    elif rank == 1:\n",
    "        comm.Recv(arr, source=0)\n",
    "        comm.Send(arr, dest=0)\n",
    "\n",
    "def ping_pong_repeat(size, iterations, kind=\"send\", dtype=np.float64):\n",
    "    \"\"\"Repeat ping_pong a number of times\"\"\"\n",
    "    if rank == 0:\n",
    "        arr = np.random.random(size).astype(dtype)\n",
    "    else:\n",
    "        arr = np.empty(size, dtype=dtype)\n",
    "    \n",
    "    if kind == \"send\":\n",
    "        f = ping_pong_send\n",
    "    elif kind == \"Send\":\n",
    "        f = ping_pong_Send\n",
    "    else:\n",
    "        raise ValueError(f\"{kind=}\")\n",
    "    \n",
    "    for i in range(iterations):\n",
    "        f(arr)"
   ]
  },
  {
   "cell_type": "markdown",
   "id": "08c64998-3f4e-4f51-a1a2-067936ced86a",
   "metadata": {},
   "source": [
    "`measure_one` takes a given size and arguments, and runs a single measurement.\n",
    "This samples the call a number of times (as done in `timeit`).\n",
    "For convenience, a short measurement is run first, to determine how many samples we could take in about one second."
   ]
  },
  {
   "cell_type": "code",
   "execution_count": 4,
   "id": "5677ec53-4272-4f8d-aac2-a23d67107a25",
   "metadata": {
    "tags": []
   },
   "outputs": [],
   "source": [
    "def measure_one(size, target_time=1, **kwargs):\n",
    "    \"\"\"Runs a single measurement\n",
    "    \n",
    "    Given a size and target measurement time,\n",
    "    estimate how many iterations are needed to take target_time\n",
    "    Then run with that many iterations, returning the average time per call.\n",
    "    \"\"\"\n",
    "    comm.Barrier()\n",
    "    \n",
    "    tic = time.perf_counter()\n",
    "    ping_pong_repeat(size, 10, **kwargs)\n",
    "    toc = time.perf_counter()\n",
    "    # initial measurement to set iterations to measure\n",
    "    if rank == 0:\n",
    "        duration = (toc-tic)\n",
    "        scale = target_time / duration\n",
    "        if duration > target_time:\n",
    "            iterations = 0\n",
    "        else:\n",
    "            iterations = int(10 * scale)\n",
    "        comm.send(iterations, dest=1)\n",
    "    elif rank == 1:\n",
    "        iterations = comm.recv(source=0)\n",
    "\n",
    "    if iterations:\n",
    "        time.sleep(0.25)\n",
    "        comm.Barrier()\n",
    "        tic = time.perf_counter()\n",
    "        ping_pong_repeat(size, iterations, **kwargs)\n",
    "        toc = time.perf_counter()\n",
    "        comm.Barrier()\n",
    "        per_call = (toc - tic) / iterations\n",
    "    else:\n",
    "        # initial measurement exceeded threshold, use it\n",
    "        per_call = (toc - tic) / 10\n",
    "    return per_call"
   ]
  },
  {
   "cell_type": "markdown",
   "id": "bca21c38-6317-43cf-b618-43af745fed82",
   "metadata": {},
   "source": [
    "Next, we collect data by running several measurements for:\n",
    "\n",
    "- several sizes from 1k to 1M elements\n",
    "- both implementations"
   ]
  },
  {
   "cell_type": "code",
   "execution_count": 5,
   "id": "037eaff7-3d8d-49fa-885c-ea5a4af0011f",
   "metadata": {
    "tags": []
   },
   "outputs": [
    {
     "data": {
      "application/vnd.jupyter.widget-view+json": {
       "model_id": "6317220a9d074625a5d1391578877d84",
       "version_major": 2,
       "version_minor": 0
      },
      "text/plain": [
       "  0%|          | 0/21 [00:00<?, ?it/s]"
      ]
     },
     "metadata": {},
     "output_type": "display_data"
    }
   ],
   "source": [
    "results = []\n",
    "\n",
    "from tqdm.notebook import tqdm\n",
    "for size in tqdm(np.logspace(3, 6, 21).astype(int)):\n",
    "    for kind in (\"send\", \"Send\"):\n",
    "        per_call = rc[:].apply_sync(measure_one, size, kind=kind)\n",
    "        per_call = per_call[0]\n",
    "        calls_per_sec = 1 / per_call\n",
    "        results.append({\"kind\": kind, \"per_call\": per_call, \"size\": size})"
   ]
  },
  {
   "cell_type": "markdown",
   "id": "e95cefda-6987-4f7e-991a-e9ccdac52480",
   "metadata": {},
   "source": [
    "Now we have a `results` list of samples, which we can collect with pandas and plot with altair."
   ]
  },
  {
   "cell_type": "code",
   "execution_count": 6,
   "id": "8c7a5a5b-bfab-4bd8-a93b-6997761aab24",
   "metadata": {
    "tags": []
   },
   "outputs": [],
   "source": [
    "import pandas as pd\n",
    "import altair as alt\n",
    "\n",
    "# results = rc[0][\"results\"]\n",
    "\n",
    "df = pd.DataFrame(results)"
   ]
  },
  {
   "cell_type": "code",
   "execution_count": 7,
   "id": "7fdec695-5d24-4737-aa5d-9670ecabd74c",
   "metadata": {
    "tags": []
   },
   "outputs": [
    {
     "data": {
      "text/html": [
       "<div>\n",
       "<style scoped>\n",
       "    .dataframe tbody tr th:only-of-type {\n",
       "        vertical-align: middle;\n",
       "    }\n",
       "\n",
       "    .dataframe tbody tr th {\n",
       "        vertical-align: top;\n",
       "    }\n",
       "\n",
       "    .dataframe thead th {\n",
       "        text-align: right;\n",
       "    }\n",
       "</style>\n",
       "<table border=\"1\" class=\"dataframe\">\n",
       "  <thead>\n",
       "    <tr style=\"text-align: right;\">\n",
       "      <th></th>\n",
       "      <th>kind</th>\n",
       "      <th>per_call</th>\n",
       "      <th>size</th>\n",
       "    </tr>\n",
       "  </thead>\n",
       "  <tbody>\n",
       "    <tr>\n",
       "      <th>0</th>\n",
       "      <td>send</td>\n",
       "      <td>0.000019</td>\n",
       "      <td>1000</td>\n",
       "    </tr>\n",
       "    <tr>\n",
       "      <th>1</th>\n",
       "      <td>Send</td>\n",
       "      <td>0.000002</td>\n",
       "      <td>1000</td>\n",
       "    </tr>\n",
       "    <tr>\n",
       "      <th>2</th>\n",
       "      <td>send</td>\n",
       "      <td>0.000020</td>\n",
       "      <td>1412</td>\n",
       "    </tr>\n",
       "    <tr>\n",
       "      <th>3</th>\n",
       "      <td>Send</td>\n",
       "      <td>0.000002</td>\n",
       "      <td>1412</td>\n",
       "    </tr>\n",
       "    <tr>\n",
       "      <th>4</th>\n",
       "      <td>send</td>\n",
       "      <td>0.000023</td>\n",
       "      <td>1995</td>\n",
       "    </tr>\n",
       "    <tr>\n",
       "      <th>5</th>\n",
       "      <td>Send</td>\n",
       "      <td>0.000003</td>\n",
       "      <td>1995</td>\n",
       "    </tr>\n",
       "    <tr>\n",
       "      <th>6</th>\n",
       "      <td>send</td>\n",
       "      <td>0.000028</td>\n",
       "      <td>2818</td>\n",
       "    </tr>\n",
       "    <tr>\n",
       "      <th>7</th>\n",
       "      <td>Send</td>\n",
       "      <td>0.000004</td>\n",
       "      <td>2818</td>\n",
       "    </tr>\n",
       "    <tr>\n",
       "      <th>8</th>\n",
       "      <td>send</td>\n",
       "      <td>0.000034</td>\n",
       "      <td>3981</td>\n",
       "    </tr>\n",
       "    <tr>\n",
       "      <th>9</th>\n",
       "      <td>Send</td>\n",
       "      <td>0.000004</td>\n",
       "      <td>3981</td>\n",
       "    </tr>\n",
       "    <tr>\n",
       "      <th>10</th>\n",
       "      <td>send</td>\n",
       "      <td>0.000040</td>\n",
       "      <td>5623</td>\n",
       "    </tr>\n",
       "    <tr>\n",
       "      <th>11</th>\n",
       "      <td>Send</td>\n",
       "      <td>0.000008</td>\n",
       "      <td>5623</td>\n",
       "    </tr>\n",
       "    <tr>\n",
       "      <th>12</th>\n",
       "      <td>send</td>\n",
       "      <td>0.000047</td>\n",
       "      <td>7943</td>\n",
       "    </tr>\n",
       "    <tr>\n",
       "      <th>13</th>\n",
       "      <td>Send</td>\n",
       "      <td>0.000014</td>\n",
       "      <td>7943</td>\n",
       "    </tr>\n",
       "    <tr>\n",
       "      <th>14</th>\n",
       "      <td>send</td>\n",
       "      <td>0.000037</td>\n",
       "      <td>11220</td>\n",
       "    </tr>\n",
       "    <tr>\n",
       "      <th>15</th>\n",
       "      <td>Send</td>\n",
       "      <td>0.000018</td>\n",
       "      <td>11220</td>\n",
       "    </tr>\n",
       "    <tr>\n",
       "      <th>16</th>\n",
       "      <td>send</td>\n",
       "      <td>0.000044</td>\n",
       "      <td>15848</td>\n",
       "    </tr>\n",
       "    <tr>\n",
       "      <th>17</th>\n",
       "      <td>Send</td>\n",
       "      <td>0.000011</td>\n",
       "      <td>15848</td>\n",
       "    </tr>\n",
       "    <tr>\n",
       "      <th>18</th>\n",
       "      <td>send</td>\n",
       "      <td>0.000050</td>\n",
       "      <td>22387</td>\n",
       "    </tr>\n",
       "    <tr>\n",
       "      <th>19</th>\n",
       "      <td>Send</td>\n",
       "      <td>0.000015</td>\n",
       "      <td>22387</td>\n",
       "    </tr>\n",
       "    <tr>\n",
       "      <th>20</th>\n",
       "      <td>send</td>\n",
       "      <td>0.000066</td>\n",
       "      <td>31622</td>\n",
       "    </tr>\n",
       "    <tr>\n",
       "      <th>21</th>\n",
       "      <td>Send</td>\n",
       "      <td>0.000021</td>\n",
       "      <td>31622</td>\n",
       "    </tr>\n",
       "    <tr>\n",
       "      <th>22</th>\n",
       "      <td>send</td>\n",
       "      <td>0.000094</td>\n",
       "      <td>44668</td>\n",
       "    </tr>\n",
       "    <tr>\n",
       "      <th>23</th>\n",
       "      <td>Send</td>\n",
       "      <td>0.000026</td>\n",
       "      <td>44668</td>\n",
       "    </tr>\n",
       "    <tr>\n",
       "      <th>24</th>\n",
       "      <td>send</td>\n",
       "      <td>0.000115</td>\n",
       "      <td>63095</td>\n",
       "    </tr>\n",
       "    <tr>\n",
       "      <th>25</th>\n",
       "      <td>Send</td>\n",
       "      <td>0.000035</td>\n",
       "      <td>63095</td>\n",
       "    </tr>\n",
       "    <tr>\n",
       "      <th>26</th>\n",
       "      <td>send</td>\n",
       "      <td>0.000283</td>\n",
       "      <td>89125</td>\n",
       "    </tr>\n",
       "    <tr>\n",
       "      <th>27</th>\n",
       "      <td>Send</td>\n",
       "      <td>0.000048</td>\n",
       "      <td>89125</td>\n",
       "    </tr>\n",
       "    <tr>\n",
       "      <th>28</th>\n",
       "      <td>send</td>\n",
       "      <td>0.000432</td>\n",
       "      <td>125892</td>\n",
       "    </tr>\n",
       "    <tr>\n",
       "      <th>29</th>\n",
       "      <td>Send</td>\n",
       "      <td>0.000068</td>\n",
       "      <td>125892</td>\n",
       "    </tr>\n",
       "    <tr>\n",
       "      <th>30</th>\n",
       "      <td>send</td>\n",
       "      <td>0.000469</td>\n",
       "      <td>177827</td>\n",
       "    </tr>\n",
       "    <tr>\n",
       "      <th>31</th>\n",
       "      <td>Send</td>\n",
       "      <td>0.000101</td>\n",
       "      <td>177827</td>\n",
       "    </tr>\n",
       "    <tr>\n",
       "      <th>32</th>\n",
       "      <td>send</td>\n",
       "      <td>0.001115</td>\n",
       "      <td>251188</td>\n",
       "    </tr>\n",
       "    <tr>\n",
       "      <th>33</th>\n",
       "      <td>Send</td>\n",
       "      <td>0.000135</td>\n",
       "      <td>251188</td>\n",
       "    </tr>\n",
       "    <tr>\n",
       "      <th>34</th>\n",
       "      <td>send</td>\n",
       "      <td>0.001554</td>\n",
       "      <td>354813</td>\n",
       "    </tr>\n",
       "    <tr>\n",
       "      <th>35</th>\n",
       "      <td>Send</td>\n",
       "      <td>0.000196</td>\n",
       "      <td>354813</td>\n",
       "    </tr>\n",
       "    <tr>\n",
       "      <th>36</th>\n",
       "      <td>send</td>\n",
       "      <td>0.002175</td>\n",
       "      <td>501187</td>\n",
       "    </tr>\n",
       "    <tr>\n",
       "      <th>37</th>\n",
       "      <td>Send</td>\n",
       "      <td>0.000291</td>\n",
       "      <td>501187</td>\n",
       "    </tr>\n",
       "    <tr>\n",
       "      <th>38</th>\n",
       "      <td>send</td>\n",
       "      <td>0.002363</td>\n",
       "      <td>707945</td>\n",
       "    </tr>\n",
       "    <tr>\n",
       "      <th>39</th>\n",
       "      <td>Send</td>\n",
       "      <td>0.000410</td>\n",
       "      <td>707945</td>\n",
       "    </tr>\n",
       "    <tr>\n",
       "      <th>40</th>\n",
       "      <td>send</td>\n",
       "      <td>0.004332</td>\n",
       "      <td>1000000</td>\n",
       "    </tr>\n",
       "    <tr>\n",
       "      <th>41</th>\n",
       "      <td>Send</td>\n",
       "      <td>0.000599</td>\n",
       "      <td>1000000</td>\n",
       "    </tr>\n",
       "  </tbody>\n",
       "</table>\n",
       "</div>"
      ],
      "text/plain": [
       "    kind  per_call     size\n",
       "0   send  0.000019     1000\n",
       "1   Send  0.000002     1000\n",
       "2   send  0.000020     1412\n",
       "3   Send  0.000002     1412\n",
       "4   send  0.000023     1995\n",
       "5   Send  0.000003     1995\n",
       "6   send  0.000028     2818\n",
       "7   Send  0.000004     2818\n",
       "8   send  0.000034     3981\n",
       "9   Send  0.000004     3981\n",
       "10  send  0.000040     5623\n",
       "11  Send  0.000008     5623\n",
       "12  send  0.000047     7943\n",
       "13  Send  0.000014     7943\n",
       "14  send  0.000037    11220\n",
       "15  Send  0.000018    11220\n",
       "16  send  0.000044    15848\n",
       "17  Send  0.000011    15848\n",
       "18  send  0.000050    22387\n",
       "19  Send  0.000015    22387\n",
       "20  send  0.000066    31622\n",
       "21  Send  0.000021    31622\n",
       "22  send  0.000094    44668\n",
       "23  Send  0.000026    44668\n",
       "24  send  0.000115    63095\n",
       "25  Send  0.000035    63095\n",
       "26  send  0.000283    89125\n",
       "27  Send  0.000048    89125\n",
       "28  send  0.000432   125892\n",
       "29  Send  0.000068   125892\n",
       "30  send  0.000469   177827\n",
       "31  Send  0.000101   177827\n",
       "32  send  0.001115   251188\n",
       "33  Send  0.000135   251188\n",
       "34  send  0.001554   354813\n",
       "35  Send  0.000196   354813\n",
       "36  send  0.002175   501187\n",
       "37  Send  0.000291   501187\n",
       "38  send  0.002363   707945\n",
       "39  Send  0.000410   707945\n",
       "40  send  0.004332  1000000\n",
       "41  Send  0.000599  1000000"
      ]
     },
     "execution_count": 7,
     "metadata": {},
     "output_type": "execute_result"
    }
   ],
   "source": [
    "df"
   ]
  },
  {
   "cell_type": "markdown",
   "id": "fdd9b75b-6c77-4683-a751-eeb5fbbc5311",
   "metadata": {},
   "source": [
    "We can group them by n, kind to compare times:"
   ]
  },
  {
   "cell_type": "code",
   "execution_count": 8,
   "id": "7191a56d-6048-4e21-9ef7-94778bc14484",
   "metadata": {
    "tags": []
   },
   "outputs": [
    {
     "data": {
      "text/plain": [
       "size     kind\n",
       "1000     Send    0.000002\n",
       "         send    0.000019\n",
       "1412     Send    0.000002\n",
       "         send    0.000020\n",
       "1995     Send    0.000003\n",
       "         send    0.000023\n",
       "2818     Send    0.000004\n",
       "         send    0.000028\n",
       "3981     Send    0.000004\n",
       "         send    0.000034\n",
       "5623     Send    0.000008\n",
       "         send    0.000040\n",
       "7943     Send    0.000014\n",
       "         send    0.000047\n",
       "11220    Send    0.000018\n",
       "         send    0.000037\n",
       "15848    Send    0.000011\n",
       "         send    0.000044\n",
       "22387    Send    0.000015\n",
       "         send    0.000050\n",
       "31622    Send    0.000021\n",
       "         send    0.000066\n",
       "44668    Send    0.000026\n",
       "         send    0.000094\n",
       "63095    Send    0.000035\n",
       "         send    0.000115\n",
       "89125    Send    0.000048\n",
       "         send    0.000283\n",
       "125892   Send    0.000068\n",
       "         send    0.000432\n",
       "177827   Send    0.000101\n",
       "         send    0.000469\n",
       "251188   Send    0.000135\n",
       "         send    0.001115\n",
       "354813   Send    0.000196\n",
       "         send    0.001554\n",
       "501187   Send    0.000291\n",
       "         send    0.002175\n",
       "707945   Send    0.000410\n",
       "         send    0.002363\n",
       "1000000  Send    0.000599\n",
       "         send    0.004332\n",
       "Name: per_call, dtype: float64"
      ]
     },
     "execution_count": 8,
     "metadata": {},
     "output_type": "execute_result"
    }
   ],
   "source": [
    "df.groupby([\"size\", \"kind\"]).per_call.first()"
   ]
  },
  {
   "cell_type": "markdown",
   "id": "a8d9433e-a640-4de8-999f-7e3faae81a56",
   "metadata": {},
   "source": [
    "Or see it more easily, plot the times per call with altair:"
   ]
  },
  {
   "cell_type": "code",
   "execution_count": 9,
   "id": "a331197b-490d-41e2-8240-1d8768d27268",
   "metadata": {
    "tags": []
   },
   "outputs": [
    {
     "data": {
      "text/html": [
       "\n",
       "<div id=\"altair-viz-093b8129b1ae414b905ae0450a759f0d\"></div>\n",
       "<script type=\"text/javascript\">\n",
       "  var VEGA_DEBUG = (typeof VEGA_DEBUG == \"undefined\") ? {} : VEGA_DEBUG;\n",
       "  (function(spec, embedOpt){\n",
       "    let outputDiv = document.currentScript.previousElementSibling;\n",
       "    if (outputDiv.id !== \"altair-viz-093b8129b1ae414b905ae0450a759f0d\") {\n",
       "      outputDiv = document.getElementById(\"altair-viz-093b8129b1ae414b905ae0450a759f0d\");\n",
       "    }\n",
       "    const paths = {\n",
       "      \"vega\": \"https://cdn.jsdelivr.net/npm//vega@5?noext\",\n",
       "      \"vega-lib\": \"https://cdn.jsdelivr.net/npm//vega-lib?noext\",\n",
       "      \"vega-lite\": \"https://cdn.jsdelivr.net/npm//vega-lite@4.17.0?noext\",\n",
       "      \"vega-embed\": \"https://cdn.jsdelivr.net/npm//vega-embed@6?noext\",\n",
       "    };\n",
       "\n",
       "    function maybeLoadScript(lib, version) {\n",
       "      var key = `${lib.replace(\"-\", \"\")}_version`;\n",
       "      return (VEGA_DEBUG[key] == version) ?\n",
       "        Promise.resolve(paths[lib]) :\n",
       "        new Promise(function(resolve, reject) {\n",
       "          var s = document.createElement('script');\n",
       "          document.getElementsByTagName(\"head\")[0].appendChild(s);\n",
       "          s.async = true;\n",
       "          s.onload = () => {\n",
       "            VEGA_DEBUG[key] = version;\n",
       "            return resolve(paths[lib]);\n",
       "          };\n",
       "          s.onerror = () => reject(`Error loading script: ${paths[lib]}`);\n",
       "          s.src = paths[lib];\n",
       "        });\n",
       "    }\n",
       "\n",
       "    function showError(err) {\n",
       "      outputDiv.innerHTML = `<div class=\"error\" style=\"color:red;\">${err}</div>`;\n",
       "      throw err;\n",
       "    }\n",
       "\n",
       "    function displayChart(vegaEmbed) {\n",
       "      vegaEmbed(outputDiv, spec, embedOpt)\n",
       "        .catch(err => showError(`Javascript Error: ${err.message}<br>This usually means there's a typo in your chart specification. See the javascript console for the full traceback.`));\n",
       "    }\n",
       "\n",
       "    if(typeof define === \"function\" && define.amd) {\n",
       "      requirejs.config({paths});\n",
       "      require([\"vega-embed\"], displayChart, err => showError(`Error loading script: ${err.message}`));\n",
       "    } else {\n",
       "      maybeLoadScript(\"vega\", \"5\")\n",
       "        .then(() => maybeLoadScript(\"vega-lite\", \"4.17.0\"))\n",
       "        .then(() => maybeLoadScript(\"vega-embed\", \"6\"))\n",
       "        .catch(showError)\n",
       "        .then(() => displayChart(vegaEmbed));\n",
       "    }\n",
       "  })({\"config\": {\"view\": {\"continuousWidth\": 400, \"continuousHeight\": 300}}, \"data\": {\"name\": \"data-77019d10eeb2c39416531e031f11b8f9\"}, \"mark\": \"line\", \"encoding\": {\"color\": {\"field\": \"kind\", \"type\": \"nominal\"}, \"x\": {\"field\": \"size\", \"scale\": {\"type\": \"log\"}, \"type\": \"quantitative\"}, \"y\": {\"field\": \"per_call\", \"scale\": {\"type\": \"log\"}, \"type\": \"quantitative\"}}, \"$schema\": \"https://vega.github.io/schema/vega-lite/v4.17.0.json\", \"datasets\": {\"data-77019d10eeb2c39416531e031f11b8f9\": [{\"kind\": \"send\", \"per_call\": 1.8830377237360027e-05, \"size\": 1000}, {\"kind\": \"Send\", \"per_call\": 2.2246738179559833e-06, \"size\": 1000}, {\"kind\": \"send\", \"per_call\": 1.9798052721844952e-05, \"size\": 1412}, {\"kind\": \"Send\", \"per_call\": 2.402784835364301e-06, \"size\": 1412}, {\"kind\": \"send\", \"per_call\": 2.290518539701243e-05, \"size\": 1995}, {\"kind\": \"Send\", \"per_call\": 2.8197306952185704e-06, \"size\": 1995}, {\"kind\": \"send\", \"per_call\": 2.7734080580285482e-05, \"size\": 2818}, {\"kind\": \"Send\", \"per_call\": 3.568816506636265e-06, \"size\": 2818}, {\"kind\": \"send\", \"per_call\": 3.440858540908055e-05, \"size\": 3981}, {\"kind\": \"Send\", \"per_call\": 4.3843387947629535e-06, \"size\": 3981}, {\"kind\": \"send\", \"per_call\": 3.9898479231099015e-05, \"size\": 5623}, {\"kind\": \"Send\", \"per_call\": 7.856097727650925e-06, \"size\": 5623}, {\"kind\": \"send\", \"per_call\": 4.7256352386430206e-05, \"size\": 7943}, {\"kind\": \"Send\", \"per_call\": 1.399944667461607e-05, \"size\": 7943}, {\"kind\": \"send\", \"per_call\": 3.667371483891389e-05, \"size\": 11220}, {\"kind\": \"Send\", \"per_call\": 1.7987647854952477e-05, \"size\": 11220}, {\"kind\": \"send\", \"per_call\": 4.3611458755709066e-05, \"size\": 15848}, {\"kind\": \"Send\", \"per_call\": 1.1344253661447336e-05, \"size\": 15848}, {\"kind\": \"send\", \"per_call\": 5.0107719195594456e-05, \"size\": 22387}, {\"kind\": \"Send\", \"per_call\": 1.4916339841057916e-05, \"size\": 22387}, {\"kind\": \"send\", \"per_call\": 6.628886691274366e-05, \"size\": 31622}, {\"kind\": \"Send\", \"per_call\": 2.0540526998370432e-05, \"size\": 31622}, {\"kind\": \"send\", \"per_call\": 9.43145308835549e-05, \"size\": 44668}, {\"kind\": \"Send\", \"per_call\": 2.5924043665182535e-05, \"size\": 44668}, {\"kind\": \"send\", \"per_call\": 0.0001153102633947122, \"size\": 63095}, {\"kind\": \"Send\", \"per_call\": 3.5341299865777634e-05, \"size\": 63095}, {\"kind\": \"send\", \"per_call\": 0.0002828887982836395, \"size\": 89125}, {\"kind\": \"Send\", \"per_call\": 4.806574343875182e-05, \"size\": 89125}, {\"kind\": \"send\", \"per_call\": 0.0004318310006020937, \"size\": 125892}, {\"kind\": \"Send\", \"per_call\": 6.83953849749447e-05, \"size\": 125892}, {\"kind\": \"send\", \"per_call\": 0.0004688661862231411, \"size\": 177827}, {\"kind\": \"Send\", \"per_call\": 0.00010107702391864472, \"size\": 177827}, {\"kind\": \"send\", \"per_call\": 0.0011150165832287064, \"size\": 251188}, {\"kind\": \"Send\", \"per_call\": 0.00013507643040163437, \"size\": 251188}, {\"kind\": \"send\", \"per_call\": 0.0015543752399266738, \"size\": 354813}, {\"kind\": \"Send\", \"per_call\": 0.00019560403037414002, \"size\": 354813}, {\"kind\": \"send\", \"per_call\": 0.0021746530343118337, \"size\": 501187}, {\"kind\": \"Send\", \"per_call\": 0.0002909305398010504, \"size\": 501187}, {\"kind\": \"send\", \"per_call\": 0.0023627474868092423, \"size\": 707945}, {\"kind\": \"Send\", \"per_call\": 0.00041037589214617734, \"size\": 707945}, {\"kind\": \"send\", \"per_call\": 0.004331738636348305, \"size\": 1000000}, {\"kind\": \"Send\", \"per_call\": 0.0005993652634548273, \"size\": 1000000}]}}, {\"mode\": \"vega-lite\"});\n",
       "</script>"
      ],
      "text/plain": [
       "alt.Chart(...)"
      ]
     },
     "execution_count": 9,
     "metadata": {},
     "output_type": "execute_result"
    }
   ],
   "source": [
    "alt.Chart(df).mark_line().encode(\n",
    "    x=alt.X(\"size\", scale=alt.Scale(type=\"log\")),\n",
    "    y=alt.Y(\"per_call\", scale=alt.Scale(type=\"log\")),\n",
    "    color=\"kind\",\n",
    ")"
   ]
  },
  {
   "cell_type": "markdown",
   "id": "a71ffbb6-2e02-4b7f-aa33-d200cf77cb49",
   "metadata": {},
   "source": [
    "We can also plot the 'speedup' or the ratio of how much quicker `Send` calls are than `send`:"
   ]
  },
  {
   "cell_type": "code",
   "execution_count": 10,
   "id": "aaeef9b8-5145-4f65-b6f3-5797665d79d0",
   "metadata": {
    "tags": []
   },
   "outputs": [
    {
     "data": {
      "text/html": [
       "\n",
       "<div id=\"altair-viz-326a9091bfe1498bb7124d1f54b732f9\"></div>\n",
       "<script type=\"text/javascript\">\n",
       "  var VEGA_DEBUG = (typeof VEGA_DEBUG == \"undefined\") ? {} : VEGA_DEBUG;\n",
       "  (function(spec, embedOpt){\n",
       "    let outputDiv = document.currentScript.previousElementSibling;\n",
       "    if (outputDiv.id !== \"altair-viz-326a9091bfe1498bb7124d1f54b732f9\") {\n",
       "      outputDiv = document.getElementById(\"altair-viz-326a9091bfe1498bb7124d1f54b732f9\");\n",
       "    }\n",
       "    const paths = {\n",
       "      \"vega\": \"https://cdn.jsdelivr.net/npm//vega@5?noext\",\n",
       "      \"vega-lib\": \"https://cdn.jsdelivr.net/npm//vega-lib?noext\",\n",
       "      \"vega-lite\": \"https://cdn.jsdelivr.net/npm//vega-lite@4.17.0?noext\",\n",
       "      \"vega-embed\": \"https://cdn.jsdelivr.net/npm//vega-embed@6?noext\",\n",
       "    };\n",
       "\n",
       "    function maybeLoadScript(lib, version) {\n",
       "      var key = `${lib.replace(\"-\", \"\")}_version`;\n",
       "      return (VEGA_DEBUG[key] == version) ?\n",
       "        Promise.resolve(paths[lib]) :\n",
       "        new Promise(function(resolve, reject) {\n",
       "          var s = document.createElement('script');\n",
       "          document.getElementsByTagName(\"head\")[0].appendChild(s);\n",
       "          s.async = true;\n",
       "          s.onload = () => {\n",
       "            VEGA_DEBUG[key] = version;\n",
       "            return resolve(paths[lib]);\n",
       "          };\n",
       "          s.onerror = () => reject(`Error loading script: ${paths[lib]}`);\n",
       "          s.src = paths[lib];\n",
       "        });\n",
       "    }\n",
       "\n",
       "    function showError(err) {\n",
       "      outputDiv.innerHTML = `<div class=\"error\" style=\"color:red;\">${err}</div>`;\n",
       "      throw err;\n",
       "    }\n",
       "\n",
       "    function displayChart(vegaEmbed) {\n",
       "      vegaEmbed(outputDiv, spec, embedOpt)\n",
       "        .catch(err => showError(`Javascript Error: ${err.message}<br>This usually means there's a typo in your chart specification. See the javascript console for the full traceback.`));\n",
       "    }\n",
       "\n",
       "    if(typeof define === \"function\" && define.amd) {\n",
       "      requirejs.config({paths});\n",
       "      require([\"vega-embed\"], displayChart, err => showError(`Error loading script: ${err.message}`));\n",
       "    } else {\n",
       "      maybeLoadScript(\"vega\", \"5\")\n",
       "        .then(() => maybeLoadScript(\"vega-lite\", \"4.17.0\"))\n",
       "        .then(() => maybeLoadScript(\"vega-embed\", \"6\"))\n",
       "        .catch(showError)\n",
       "        .then(() => displayChart(vegaEmbed));\n",
       "    }\n",
       "  })({\"config\": {\"view\": {\"continuousWidth\": 400, \"continuousHeight\": 300}}, \"data\": {\"name\": \"data-37e74a00d49d859e637ef67e52ec724b\"}, \"mark\": \"line\", \"encoding\": {\"x\": {\"field\": \"size\", \"scale\": {\"type\": \"log\"}, \"type\": \"quantitative\"}, \"y\": {\"field\": \"speedup\", \"type\": \"quantitative\"}}, \"$schema\": \"https://vega.github.io/schema/vega-lite/v4.17.0.json\", \"datasets\": {\"data-37e74a00d49d859e637ef67e52ec724b\": [{\"size\": 1000, \"Send\": 2.2246738179559833e-06, \"send\": 1.8830377237360027e-05, \"speedup\": 8.464331752985371}, {\"size\": 1412, \"Send\": 2.402784835364301e-06, \"send\": 1.9798052721844952e-05, \"speedup\": 8.239627797901948}, {\"size\": 1995, \"Send\": 2.8197306952185704e-06, \"send\": 2.290518539701243e-05, \"speedup\": 8.123181917994103}, {\"size\": 2818, \"Send\": 3.568816506636265e-06, \"send\": 2.7734080580285482e-05, \"speedup\": 7.771226267507328}, {\"size\": 3981, \"Send\": 4.3843387947629535e-06, \"send\": 3.440858540908055e-05, \"speedup\": 7.848067181802019}, {\"size\": 5623, \"Send\": 7.856097727650925e-06, \"send\": 3.9898479231099015e-05, \"speedup\": 5.078663811763601}, {\"size\": 7943, \"Send\": 1.399944667461607e-05, \"send\": 4.7256352386430206e-05, \"speedup\": 3.3755871560349506}, {\"size\": 11220, \"Send\": 1.7987647854952477e-05, \"send\": 3.667371483891389e-05, \"speedup\": 2.0388277074713046}, {\"size\": 15848, \"Send\": 1.1344253661447336e-05, \"send\": 4.3611458755709066e-05, \"speedup\": 3.8443656195664597}, {\"size\": 22387, \"Send\": 1.4916339841057916e-05, \"send\": 5.0107719195594456e-05, \"speedup\": 3.359250307348901}, {\"size\": 31622, \"Send\": 2.0540526998370432e-05, \"send\": 6.628886691274366e-05, \"speedup\": 3.2272232800065273}, {\"size\": 44668, \"Send\": 2.5924043665182535e-05, \"send\": 9.43145308835549e-05, \"speedup\": 3.6381103234378775}, {\"size\": 63095, \"Send\": 3.5341299865777634e-05, \"send\": 0.0001153102633947122, \"speedup\": 3.2627623724268173}, {\"size\": 89125, \"Send\": 4.806574343875182e-05, \"send\": 0.0002828887982836395, \"speedup\": 5.885455587389655}, {\"size\": 125892, \"Send\": 6.83953849749447e-05, \"send\": 0.0004318310006020937, \"speedup\": 6.313744717721619}, {\"size\": 177827, \"Send\": 0.00010107702391864472, \"send\": 0.0004688661862231411, \"speedup\": 4.638701932899449}, {\"size\": 251188, \"Send\": 0.00013507643040163437, \"send\": 0.0011150165832287064, \"speedup\": 8.254708685396347}, {\"size\": 354813, \"Send\": 0.00019560403037414002, \"send\": 0.0015543752399266738, \"speedup\": 7.946539940682997}, {\"size\": 501187, \"Send\": 0.0002909305398010504, \"send\": 0.0021746530343118337, \"speedup\": 7.4748186828338685}, {\"size\": 707945, \"Send\": 0.00041037589214617734, \"send\": 0.0023627474868092423, \"speedup\": 5.757520195576263}, {\"size\": 1000000, \"Send\": 0.0005993652634548273, \"send\": 0.004331738636348305, \"speedup\": 7.227210017777043}]}}, {\"mode\": \"vega-lite\"});\n",
       "</script>"
      ],
      "text/plain": [
       "alt.Chart(...)"
      ]
     },
     "execution_count": 10,
     "metadata": {},
     "output_type": "execute_result"
    }
   ],
   "source": [
    "speedup_df = df.groupby([\"size\", \"kind\"]).per_call.first().unstack()\n",
    "speedup_df[\"speedup\"] = speedup_df[\"send\"] / speedup_df[\"Send\"]\n",
    "alt.Chart(speedup_df.reset_index()).mark_line().encode(\n",
    "    x=alt.X(\"size\", scale=alt.Scale(type=\"log\")),\n",
    "    y=\"speedup\",\n",
    ")"
   ]
  },
  {
   "cell_type": "markdown",
   "id": "254dcee5-57cf-48fd-82a2-c0d0b61bc0f8",
   "metadata": {},
   "source": [
    "So we can see that Send is ~3-9 times faster than `send` for numpy arrays.\n",
    "This is largely because we avoid additional memory allocations for every recv."
   ]
  },
  {
   "cell_type": "code",
   "execution_count": 11,
   "id": "1ef0812d-9661-40f2-8858-b1d0c3eba578",
   "metadata": {
    "tags": []
   },
   "outputs": [],
   "source": [
    "rc.cluster.stop_cluster_sync()"
   ]
  }
 ],
 "metadata": {
  "kernelspec": {
   "display_name": "Python 3 (ipykernel)",
   "language": "python",
   "name": "python3"
  },
  "language_info": {
   "codemirror_mode": {
    "name": "ipython",
    "version": 3
   },
   "file_extension": ".py",
   "mimetype": "text/x-python",
   "name": "python",
   "nbconvert_exporter": "python",
   "pygments_lexer": "ipython3",
   "version": "3.10.10"
  },
  "widgets": {
   "application/vnd.jupyter.widget-state+json": {
    "state": {
     "0b3f837215e74c75abc3bcb16e630c03": {
      "model_module": "@jupyter-widgets/controls",
      "model_module_version": "2.0.0",
      "model_name": "ProgressStyleModel",
      "state": {
       "description_width": ""
      }
     },
     "15d73eb13d0e4163b6474219148b3cde": {
      "model_module": "@jupyter-widgets/controls",
      "model_module_version": "2.0.0",
      "model_name": "HTMLStyleModel",
      "state": {
       "description_width": "",
       "font_size": null,
       "text_color": null
      }
     },
     "2a4fc1ca6ccd42b0a06a6a8597529a88": {
      "model_module": "@jupyter-widgets/base",
      "model_module_version": "2.0.0",
      "model_name": "LayoutModel",
      "state": {}
     },
     "37a6bb7ee25f44c9aa244015d81e114c": {
      "model_module": "@jupyter-widgets/controls",
      "model_module_version": "2.0.0",
      "model_name": "HBoxModel",
      "state": {
       "children": [
        "IPY_MODEL_5a78e3dcd21740a4b9fed55cd3b68ab6",
        "IPY_MODEL_6653d522d4f74a9dbced87f6b79714bb",
        "IPY_MODEL_e6ff7112308547fb83382b97e86d19cf"
       ],
       "layout": "IPY_MODEL_e516fcbdaa7a47d4852bf47d5cff425c"
      }
     },
     "5a78e3dcd21740a4b9fed55cd3b68ab6": {
      "model_module": "@jupyter-widgets/controls",
      "model_module_version": "2.0.0",
      "model_name": "HTMLModel",
      "state": {
       "layout": "IPY_MODEL_96c2b4c5c7d44da0b3e674356eafddeb",
       "style": "IPY_MODEL_844eb0f275ce443db0184dcbb8758b91",
       "value": "100%"
      }
     },
     "5ed829ed67f3470a9bf04693f2620c6e": {
      "model_module": "@jupyter-widgets/controls",
      "model_module_version": "2.0.0",
      "model_name": "FloatProgressModel",
      "state": {
       "bar_style": "success",
       "layout": "IPY_MODEL_2a4fc1ca6ccd42b0a06a6a8597529a88",
       "max": 2,
       "style": "IPY_MODEL_0b3f837215e74c75abc3bcb16e630c03",
       "value": 2
      }
     },
     "6653d522d4f74a9dbced87f6b79714bb": {
      "model_module": "@jupyter-widgets/controls",
      "model_module_version": "2.0.0",
      "model_name": "FloatProgressModel",
      "state": {
       "bar_style": "success",
       "layout": "IPY_MODEL_6f2502d1afd2456393b8ee49c945cf8e",
       "max": 2,
       "style": "IPY_MODEL_a5d440b99a6a4e0caaca90ae5d29feeb",
       "value": 2
      }
     },
     "6f2502d1afd2456393b8ee49c945cf8e": {
      "model_module": "@jupyter-widgets/base",
      "model_module_version": "2.0.0",
      "model_name": "LayoutModel",
      "state": {}
     },
     "6ff2defd418a458ba408aa9c95b8fd9a": {
      "model_module": "@jupyter-widgets/base",
      "model_module_version": "2.0.0",
      "model_name": "LayoutModel",
      "state": {}
     },
     "803f8f4387764378ad7c17b4bef46a4b": {
      "model_module": "@jupyter-widgets/controls",
      "model_module_version": "2.0.0",
      "model_name": "HBoxModel",
      "state": {
       "children": [
        "IPY_MODEL_b8f226cfb9ed4eb1990ad8278cb3d4ab",
        "IPY_MODEL_5ed829ed67f3470a9bf04693f2620c6e",
        "IPY_MODEL_e38eecaed9534bb48995a505c6ba9f25"
       ],
       "layout": "IPY_MODEL_6ff2defd418a458ba408aa9c95b8fd9a"
      }
     },
     "844eb0f275ce443db0184dcbb8758b91": {
      "model_module": "@jupyter-widgets/controls",
      "model_module_version": "2.0.0",
      "model_name": "HTMLStyleModel",
      "state": {
       "description_width": "",
       "font_size": null,
       "text_color": null
      }
     },
     "96c2b4c5c7d44da0b3e674356eafddeb": {
      "model_module": "@jupyter-widgets/base",
      "model_module_version": "2.0.0",
      "model_name": "LayoutModel",
      "state": {}
     },
     "a5d440b99a6a4e0caaca90ae5d29feeb": {
      "model_module": "@jupyter-widgets/controls",
      "model_module_version": "2.0.0",
      "model_name": "ProgressStyleModel",
      "state": {
       "description_width": ""
      }
     },
     "b8f226cfb9ed4eb1990ad8278cb3d4ab": {
      "model_module": "@jupyter-widgets/controls",
      "model_module_version": "2.0.0",
      "model_name": "HTMLModel",
      "state": {
       "layout": "IPY_MODEL_bf2209e45dde4aa488298d3b935e1693",
       "style": "IPY_MODEL_15d73eb13d0e4163b6474219148b3cde",
       "value": "%px: 100%"
      }
     },
     "bf2209e45dde4aa488298d3b935e1693": {
      "model_module": "@jupyter-widgets/base",
      "model_module_version": "2.0.0",
      "model_name": "LayoutModel",
      "state": {}
     },
     "d1aa981f062c42b8a570e694cd9a60e8": {
      "model_module": "@jupyter-widgets/base",
      "model_module_version": "2.0.0",
      "model_name": "LayoutModel",
      "state": {}
     },
     "e38eecaed9534bb48995a505c6ba9f25": {
      "model_module": "@jupyter-widgets/controls",
      "model_module_version": "2.0.0",
      "model_name": "HTMLModel",
      "state": {
       "layout": "IPY_MODEL_f3a5a1958d3e4f1eb41c3a268497946c",
       "style": "IPY_MODEL_edbcc05dc84d4027a1d6ae62dc090872",
       "value": " 2/2 [00:01&lt;00:00,  1.75tasks/s]"
      }
     },
     "e516fcbdaa7a47d4852bf47d5cff425c": {
      "model_module": "@jupyter-widgets/base",
      "model_module_version": "2.0.0",
      "model_name": "LayoutModel",
      "state": {}
     },
     "e6ff7112308547fb83382b97e86d19cf": {
      "model_module": "@jupyter-widgets/controls",
      "model_module_version": "2.0.0",
      "model_name": "HTMLModel",
      "state": {
       "layout": "IPY_MODEL_d1aa981f062c42b8a570e694cd9a60e8",
       "style": "IPY_MODEL_e75c7b312f4b489785875a3ec4a04883",
       "value": " 2/2 [00:01&lt;00:00,  1.15s/engine]"
      }
     },
     "e75c7b312f4b489785875a3ec4a04883": {
      "model_module": "@jupyter-widgets/controls",
      "model_module_version": "2.0.0",
      "model_name": "HTMLStyleModel",
      "state": {
       "description_width": "",
       "font_size": null,
       "text_color": null
      }
     },
     "edbcc05dc84d4027a1d6ae62dc090872": {
      "model_module": "@jupyter-widgets/controls",
      "model_module_version": "2.0.0",
      "model_name": "HTMLStyleModel",
      "state": {
       "description_width": "",
       "font_size": null,
       "text_color": null
      }
     },
     "f3a5a1958d3e4f1eb41c3a268497946c": {
      "model_module": "@jupyter-widgets/base",
      "model_module_version": "2.0.0",
      "model_name": "LayoutModel",
      "state": {}
     }
    },
    "version_major": 2,
    "version_minor": 0
   }
  }
 },
 "nbformat": 4,
 "nbformat_minor": 5
}
