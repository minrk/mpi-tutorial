{
 "cells": [
  {
   "cell_type": "markdown",
   "id": "6d5c510c-7f09-4868-9e9e-145e6a10625b",
   "metadata": {},
   "source": [
    "# Performance measurement and comm.send vs comm.Send\n",
    "\n",
    "When we write parallel code, performance is often a concern.\n",
    "Measuring performance of parallel code can be challenging:\n",
    "\n",
    "- where do we measure?\n",
    "- what do we measure?\n",
    "- how do we make sense of the numbers we've gathered?\n",
    "\n",
    "\n",
    "We are going to use the case study of when/why to use mpi4py's `comm.Send` vs `comm.send` and combine it with tools for profiling and plotting.\n",
    "\n",
    "First, our usual boilerplate to get the cluster going:"
   ]
  },
  {
   "cell_type": "code",
   "execution_count": 1,
   "id": "cb38b8dd-07b7-4f10-8083-78b61b932e51",
   "metadata": {},
   "outputs": [],
   "source": [
    "import logging\n",
    "import ipyparallel as ipp\n",
    "\n",
    "# create a cluster\n",
    "cluster = ipp.Cluster(\n",
    "    engines=\"mpi\",\n",
    "    n=2,\n",
    "    log_level=logging.WARNING,\n",
    ")\n",
    "await cluster.start_cluster()\n",
    "rc = await cluster.connect_client()\n",
    "rc.wait_for_engines(interactive=False)\n",
    "rc.activate();"
   ]
  },
  {
   "cell_type": "code",
   "execution_count": 2,
   "id": "8256e724-14e6-4a1d-b53e-c3be7de1dd10",
   "metadata": {
    "tags": []
   },
   "outputs": [
    {
     "data": {
      "text/plain": [
       "[stdout:1] I am rank 1 / 2\n"
      ]
     },
     "metadata": {},
     "output_type": "display_data"
    },
    {
     "data": {
      "text/plain": [
       "[stdout:0] I am rank 0 / 2\n"
      ]
     },
     "metadata": {},
     "output_type": "display_data"
    }
   ],
   "source": [
    "%%px\n",
    "# Find out rank, size\n",
    "from mpi4py import MPI\n",
    "\n",
    "comm = MPI.COMM_WORLD\n",
    "rank = comm.rank\n",
    "size = comm.size\n",
    "\n",
    "print(f\"I am rank {rank} / {size}\")"
   ]
  },
  {
   "cell_type": "markdown",
   "id": "f06ed0ef-a9b4-4778-9e1a-6b69345c73f5",
   "metadata": {},
   "source": [
    "We are going to define some functions that implement ping-pong communication:\n",
    "\n",
    "- node 0 sends a message to node 1\n",
    "- node 1 receives it and sends it right back\n",
    "- node 0 receives the reply"
   ]
  },
  {
   "cell_type": "code",
   "execution_count": 3,
   "id": "801de61f-4b6c-410e-888d-abbb7981c382",
   "metadata": {
    "tags": []
   },
   "outputs": [],
   "source": [
    "%%px\n",
    "\n",
    "import time\n",
    "\n",
    "import numpy as np\n",
    "\n",
    "\n",
    "def ping_pong_send(arr):\n",
    "    \"\"\"ping pong implementation with lowercase 'send' and 'recv'\"\"\"\n",
    "    if rank == 0:\n",
    "        comm.send(arr, dest=1)\n",
    "        comm.recv(source=1)\n",
    "    elif rank == 1:\n",
    "        comm.recv(source=0)\n",
    "        comm.send(arr, dest=0)\n",
    "    \n",
    "def ping_pong_Send(arr):\n",
    "    \"\"\"ping pong implementation with pre-allocated 'Send' and 'Recv'\"\"\"\n",
    "    if rank == 0:\n",
    "        comm.Send(arr, dest=1)\n",
    "        comm.Recv(arr, source=1)\n",
    "    elif rank == 1:\n",
    "        comm.Recv(arr, source=0)\n",
    "        comm.Send(arr, dest=0)\n",
    "\n",
    "def ping_pong_repeat(size, iterations, kind=\"send\", dtype=np.float64):\n",
    "    \"\"\"Repeat ping_pong a number of times\"\"\"\n",
    "    if rank == 0:\n",
    "        arr = np.random.random(size).astype(dtype)\n",
    "    else:\n",
    "        arr = np.empty(size, dtype=dtype)\n",
    "    \n",
    "    if kind == \"send\":\n",
    "        f = ping_pong_send\n",
    "    elif kind == \"Send\":\n",
    "        f = ping_pong_Send\n",
    "    else:\n",
    "        raise ValueError(f\"{kind=}\")\n",
    "    \n",
    "    for i in range(iterations):\n",
    "        f(arr)"
   ]
  },
  {
   "cell_type": "markdown",
   "id": "08c64998-3f4e-4f51-a1a2-067936ced86a",
   "metadata": {},
   "source": [
    "`measure_one` takes a given size and arguments, and runs a single measurement.\n",
    "This samples the call a number of times (as done in `timeit`).\n",
    "For convenience, a short measurement is run first, to determine how many samples we could take in about one second."
   ]
  },
  {
   "cell_type": "code",
   "execution_count": 4,
   "id": "5677ec53-4272-4f8d-aac2-a23d67107a25",
   "metadata": {
    "tags": []
   },
   "outputs": [],
   "source": [
    "def measure_one(size, target_time=1, **kwargs):\n",
    "    \"\"\"Runs a single measurement\n",
    "    \n",
    "    Given a size and target measurement time,\n",
    "    estimate how many iterations are needed to take target_time\n",
    "    Then run with that many iterations, returning the average time per call.\n",
    "    \"\"\"\n",
    "    comm.Barrier()\n",
    "    \n",
    "    tic = time.perf_counter()\n",
    "    ping_pong_repeat(size, 10, **kwargs)\n",
    "    toc = time.perf_counter()\n",
    "    # initial measurement to set iterations to measure\n",
    "    if rank == 0:\n",
    "        duration = (toc-tic)\n",
    "        scale = target_time / duration\n",
    "        if duration > target_time:\n",
    "            iterations = 0\n",
    "        else:\n",
    "            iterations = int(10 * scale)\n",
    "        comm.send(iterations, dest=1)\n",
    "    elif rank == 1:\n",
    "        iterations = comm.recv(source=0)\n",
    "\n",
    "    if iterations:\n",
    "        time.sleep(0.25)\n",
    "        comm.Barrier()\n",
    "        tic = time.perf_counter()\n",
    "        ping_pong_repeat(size, iterations, **kwargs)\n",
    "        toc = time.perf_counter()\n",
    "        comm.Barrier()\n",
    "        per_call = (toc - tic) / iterations\n",
    "    else:\n",
    "        # initial measurement exceeded threshold, use it\n",
    "        per_call = (toc - tic) / 10\n",
    "    return per_call"
   ]
  },
  {
   "cell_type": "markdown",
   "id": "8f9c1571-27be-4c35-836b-837b372a4047",
   "metadata": {},
   "source": [
    "We could do something similar with [timeit].\n",
    "Since timeit uses measurement to pick the number of iterations (like we do above on rank 0),\n",
    "we want to avoid problems where different engines pick different iteration counts,\n",
    "so we have to specify the number of iterations (`-n`).\n",
    "\n",
    "Because our engines are IPython, that means we can use line `%magics` and cell `%%magics` inside `%%px`.\n",
    "\n",
    "[timeit]: https://ipython.readthedocs.io/en/stable/interactive/magics.html#magic-timeit"
   ]
  },
  {
   "cell_type": "code",
   "execution_count": 5,
   "id": "6cc1008f-442e-468a-b1a6-afa4bd9c11a0",
   "metadata": {
    "tags": []
   },
   "outputs": [
    {
     "data": {
      "text/plain": [
       "[stdout:1] send\n",
       "358 µs ± 7.58 µs per loop (mean ± std. dev. of 7 runs, 1,000 loops each)\n",
       "Send\n",
       "63 µs ± 894 ns per loop (mean ± std. dev. of 7 runs, 10,000 loops each)\n"
      ]
     },
     "metadata": {},
     "output_type": "display_data"
    },
    {
     "data": {
      "text/plain": [
       "[stdout:0] send\n",
       "358 µs ± 7.58 µs per loop (mean ± std. dev. of 7 runs, 1,000 loops each)\n",
       "Send\n",
       "63 µs ± 894 ns per loop (mean ± std. dev. of 7 runs, 10,000 loops each)\n"
      ]
     },
     "metadata": {},
     "output_type": "display_data"
    },
    {
     "data": {
      "application/vnd.jupyter.widget-view+json": {
       "model_id": "2c29a3b3c6b04d008b081b0b48119101",
       "version_major": 2,
       "version_minor": 0
      },
      "text/plain": [
       "%px:   0%|          | 0/2 [00:00<?, ?tasks/s]"
      ]
     },
     "metadata": {},
     "output_type": "display_data"
    }
   ],
   "source": [
    "%%px\n",
    "arr = np.random.random(100_000)\n",
    "print(\"send\")\n",
    "%timeit -n 1_000 ping_pong_send(arr)\n",
    "print(\"Send\")\n",
    "%timeit -n 10_000 ping_pong_Send(arr)"
   ]
  },
  {
   "cell_type": "markdown",
   "id": "bca21c38-6317-43cf-b618-43af745fed82",
   "metadata": {},
   "source": [
    "We can collect data by running several measurements for:\n",
    "\n",
    "- several sizes from 1k to 1M elements\n",
    "- both implementations"
   ]
  },
  {
   "cell_type": "code",
   "execution_count": 6,
   "id": "037eaff7-3d8d-49fa-885c-ea5a4af0011f",
   "metadata": {
    "tags": []
   },
   "outputs": [
    {
     "data": {
      "application/vnd.jupyter.widget-view+json": {
       "model_id": "ea1a578b92e04a919bd0d79eb4ae67d7",
       "version_major": 2,
       "version_minor": 0
      },
      "text/plain": [
       "  0%|          | 0/21 [00:00<?, ?it/s]"
      ]
     },
     "metadata": {},
     "output_type": "display_data"
    }
   ],
   "source": [
    "import numpy as np\n",
    "\n",
    "results = []\n",
    "\n",
    "from tqdm.notebook import tqdm\n",
    "for size in tqdm(np.logspace(3, 6, 21).astype(int)):\n",
    "    for kind in (\"send\", \"Send\"):\n",
    "        per_call = rc[:].apply_sync(measure_one, size, kind=kind)\n",
    "        per_call = per_call[0]\n",
    "        calls_per_sec = 1 / per_call\n",
    "        results.append({\"kind\": kind, \"per_call\": per_call, \"size\": size})"
   ]
  },
  {
   "cell_type": "markdown",
   "id": "e95cefda-6987-4f7e-991a-e9ccdac52480",
   "metadata": {},
   "source": [
    "Now we have a `results` list of samples, which we can collect with pandas and plot with altair."
   ]
  },
  {
   "cell_type": "code",
   "execution_count": 7,
   "id": "8c7a5a5b-bfab-4bd8-a93b-6997761aab24",
   "metadata": {
    "tags": []
   },
   "outputs": [
    {
     "data": {
      "text/html": [
       "<div>\n",
       "<style scoped>\n",
       "    .dataframe tbody tr th:only-of-type {\n",
       "        vertical-align: middle;\n",
       "    }\n",
       "\n",
       "    .dataframe tbody tr th {\n",
       "        vertical-align: top;\n",
       "    }\n",
       "\n",
       "    .dataframe thead th {\n",
       "        text-align: right;\n",
       "    }\n",
       "</style>\n",
       "<table border=\"1\" class=\"dataframe\">\n",
       "  <thead>\n",
       "    <tr style=\"text-align: right;\">\n",
       "      <th></th>\n",
       "      <th>kind</th>\n",
       "      <th>per_call</th>\n",
       "      <th>size</th>\n",
       "    </tr>\n",
       "  </thead>\n",
       "  <tbody>\n",
       "    <tr>\n",
       "      <th>0</th>\n",
       "      <td>send</td>\n",
       "      <td>0.000023</td>\n",
       "      <td>1000</td>\n",
       "    </tr>\n",
       "    <tr>\n",
       "      <th>1</th>\n",
       "      <td>Send</td>\n",
       "      <td>0.000003</td>\n",
       "      <td>1000</td>\n",
       "    </tr>\n",
       "    <tr>\n",
       "      <th>2</th>\n",
       "      <td>send</td>\n",
       "      <td>0.000025</td>\n",
       "      <td>1412</td>\n",
       "    </tr>\n",
       "    <tr>\n",
       "      <th>3</th>\n",
       "      <td>Send</td>\n",
       "      <td>0.000003</td>\n",
       "      <td>1412</td>\n",
       "    </tr>\n",
       "    <tr>\n",
       "      <th>4</th>\n",
       "      <td>send</td>\n",
       "      <td>0.000029</td>\n",
       "      <td>1995</td>\n",
       "    </tr>\n",
       "  </tbody>\n",
       "</table>\n",
       "</div>"
      ],
      "text/plain": [
       "   kind  per_call  size\n",
       "0  send  0.000023  1000\n",
       "1  Send  0.000003  1000\n",
       "2  send  0.000025  1412\n",
       "3  Send  0.000003  1412\n",
       "4  send  0.000029  1995"
      ]
     },
     "execution_count": 7,
     "metadata": {},
     "output_type": "execute_result"
    }
   ],
   "source": [
    "import pandas as pd\n",
    "import altair as alt\n",
    "\n",
    "df = pd.DataFrame(results)\n",
    "df.head()"
   ]
  },
  {
   "cell_type": "markdown",
   "id": "fdd9b75b-6c77-4683-a751-eeb5fbbc5311",
   "metadata": {},
   "source": [
    "We can group them by n, kind to compare times:"
   ]
  },
  {
   "cell_type": "code",
   "execution_count": 8,
   "id": "7191a56d-6048-4e21-9ef7-94778bc14484",
   "metadata": {
    "tags": []
   },
   "outputs": [
    {
     "data": {
      "text/plain": [
       "size  kind\n",
       "1000  Send    0.000003\n",
       "      send    0.000023\n",
       "1412  Send    0.000003\n",
       "      send    0.000025\n",
       "1995  Send    0.000004\n",
       "      send    0.000029\n",
       "2818  Send    0.000004\n",
       "      send    0.000033\n",
       "3981  Send    0.000005\n",
       "      send    0.000043\n",
       "Name: per_call, dtype: float64"
      ]
     },
     "execution_count": 8,
     "metadata": {},
     "output_type": "execute_result"
    }
   ],
   "source": [
    "df.groupby([\"size\", \"kind\"]).per_call.first().head(10)"
   ]
  },
  {
   "cell_type": "markdown",
   "id": "a8d9433e-a640-4de8-999f-7e3faae81a56",
   "metadata": {},
   "source": [
    "Or see it more easily, plot the times per call with altair:"
   ]
  },
  {
   "cell_type": "code",
   "execution_count": 9,
   "id": "a331197b-490d-41e2-8240-1d8768d27268",
   "metadata": {
    "tags": []
   },
   "outputs": [
    {
     "data": {
      "text/html": [
       "\n",
       "<div id=\"altair-viz-05e338dcf3c444938cdd5efe177994fe\"></div>\n",
       "<script type=\"text/javascript\">\n",
       "  var VEGA_DEBUG = (typeof VEGA_DEBUG == \"undefined\") ? {} : VEGA_DEBUG;\n",
       "  (function(spec, embedOpt){\n",
       "    let outputDiv = document.currentScript.previousElementSibling;\n",
       "    if (outputDiv.id !== \"altair-viz-05e338dcf3c444938cdd5efe177994fe\") {\n",
       "      outputDiv = document.getElementById(\"altair-viz-05e338dcf3c444938cdd5efe177994fe\");\n",
       "    }\n",
       "    const paths = {\n",
       "      \"vega\": \"https://cdn.jsdelivr.net/npm//vega@5?noext\",\n",
       "      \"vega-lib\": \"https://cdn.jsdelivr.net/npm//vega-lib?noext\",\n",
       "      \"vega-lite\": \"https://cdn.jsdelivr.net/npm//vega-lite@4.17.0?noext\",\n",
       "      \"vega-embed\": \"https://cdn.jsdelivr.net/npm//vega-embed@6?noext\",\n",
       "    };\n",
       "\n",
       "    function maybeLoadScript(lib, version) {\n",
       "      var key = `${lib.replace(\"-\", \"\")}_version`;\n",
       "      return (VEGA_DEBUG[key] == version) ?\n",
       "        Promise.resolve(paths[lib]) :\n",
       "        new Promise(function(resolve, reject) {\n",
       "          var s = document.createElement('script');\n",
       "          document.getElementsByTagName(\"head\")[0].appendChild(s);\n",
       "          s.async = true;\n",
       "          s.onload = () => {\n",
       "            VEGA_DEBUG[key] = version;\n",
       "            return resolve(paths[lib]);\n",
       "          };\n",
       "          s.onerror = () => reject(`Error loading script: ${paths[lib]}`);\n",
       "          s.src = paths[lib];\n",
       "        });\n",
       "    }\n",
       "\n",
       "    function showError(err) {\n",
       "      outputDiv.innerHTML = `<div class=\"error\" style=\"color:red;\">${err}</div>`;\n",
       "      throw err;\n",
       "    }\n",
       "\n",
       "    function displayChart(vegaEmbed) {\n",
       "      vegaEmbed(outputDiv, spec, embedOpt)\n",
       "        .catch(err => showError(`Javascript Error: ${err.message}<br>This usually means there's a typo in your chart specification. See the javascript console for the full traceback.`));\n",
       "    }\n",
       "\n",
       "    if(typeof define === \"function\" && define.amd) {\n",
       "      requirejs.config({paths});\n",
       "      require([\"vega-embed\"], displayChart, err => showError(`Error loading script: ${err.message}`));\n",
       "    } else {\n",
       "      maybeLoadScript(\"vega\", \"5\")\n",
       "        .then(() => maybeLoadScript(\"vega-lite\", \"4.17.0\"))\n",
       "        .then(() => maybeLoadScript(\"vega-embed\", \"6\"))\n",
       "        .catch(showError)\n",
       "        .then(() => displayChart(vegaEmbed));\n",
       "    }\n",
       "  })({\"config\": {\"view\": {\"continuousWidth\": 400, \"continuousHeight\": 300}}, \"data\": {\"name\": \"data-546c0505484ce198c30cd6736d4746f2\"}, \"mark\": \"line\", \"encoding\": {\"color\": {\"field\": \"kind\", \"type\": \"nominal\"}, \"x\": {\"field\": \"size\", \"scale\": {\"type\": \"log\"}, \"type\": \"quantitative\"}, \"y\": {\"field\": \"per_call\", \"scale\": {\"type\": \"log\"}, \"type\": \"quantitative\"}}, \"$schema\": \"https://vega.github.io/schema/vega-lite/v4.17.0.json\", \"datasets\": {\"data-546c0505484ce198c30cd6736d4746f2\": [{\"kind\": \"send\", \"per_call\": 2.2871984765389698e-05, \"size\": 1000}, {\"kind\": \"Send\", \"per_call\": 3.225975486271545e-06, \"size\": 1000}, {\"kind\": \"send\", \"per_call\": 2.4853110575079506e-05, \"size\": 1412}, {\"kind\": \"Send\", \"per_call\": 3.3031951914353157e-06, \"size\": 1412}, {\"kind\": \"send\", \"per_call\": 2.872295379728405e-05, \"size\": 1995}, {\"kind\": \"Send\", \"per_call\": 3.5638417658643936e-06, \"size\": 1995}, {\"kind\": \"send\", \"per_call\": 3.302159162966703e-05, \"size\": 2818}, {\"kind\": \"Send\", \"per_call\": 4.316519249117204e-06, \"size\": 2818}, {\"kind\": \"send\", \"per_call\": 4.2766313640193105e-05, \"size\": 3981}, {\"kind\": \"Send\", \"per_call\": 4.9805889008331825e-06, \"size\": 3981}, {\"kind\": \"send\", \"per_call\": 5.520196492296452e-05, \"size\": 5623}, {\"kind\": \"Send\", \"per_call\": 9.095299222737783e-06, \"size\": 5623}, {\"kind\": \"send\", \"per_call\": 6.583552467639063e-05, \"size\": 7943}, {\"kind\": \"Send\", \"per_call\": 1.721752173000812e-05, \"size\": 7943}, {\"kind\": \"send\", \"per_call\": 4.539601173281743e-05, \"size\": 11220}, {\"kind\": \"Send\", \"per_call\": 2.4121679946898517e-05, \"size\": 11220}, {\"kind\": \"send\", \"per_call\": 5.5760478101657055e-05, \"size\": 15848}, {\"kind\": \"Send\", \"per_call\": 1.4542158567188082e-05, \"size\": 15848}, {\"kind\": \"send\", \"per_call\": 7.162394920455908e-05, \"size\": 22387}, {\"kind\": \"Send\", \"per_call\": 1.719419478920723e-05, \"size\": 22387}, {\"kind\": \"send\", \"per_call\": 0.0001019435592000044, \"size\": 31622}, {\"kind\": \"Send\", \"per_call\": 2.302461528616437e-05, \"size\": 31622}, {\"kind\": \"send\", \"per_call\": 0.00012504262452134958, \"size\": 44668}, {\"kind\": \"Send\", \"per_call\": 3.235662943849912e-05, \"size\": 44668}, {\"kind\": \"send\", \"per_call\": 0.00015879537879633895, \"size\": 63095}, {\"kind\": \"Send\", \"per_call\": 4.172280705178007e-05, \"size\": 63095}, {\"kind\": \"send\", \"per_call\": 0.00028823720397044546, \"size\": 89125}, {\"kind\": \"Send\", \"per_call\": 5.669679054029597e-05, \"size\": 89125}, {\"kind\": \"send\", \"per_call\": 0.00043388900366696427, \"size\": 125892}, {\"kind\": \"Send\", \"per_call\": 8.35685267958401e-05, \"size\": 125892}, {\"kind\": \"send\", \"per_call\": 0.00047783503367929294, \"size\": 177827}, {\"kind\": \"Send\", \"per_call\": 0.00011695381569404218, \"size\": 177827}, {\"kind\": \"send\", \"per_call\": 0.001227019993490382, \"size\": 251188}, {\"kind\": \"Send\", \"per_call\": 0.0001696032711876442, \"size\": 251188}, {\"kind\": \"send\", \"per_call\": 0.001570540681820024, \"size\": 354813}, {\"kind\": \"Send\", \"per_call\": 0.0002244029509462356, \"size\": 354813}, {\"kind\": \"send\", \"per_call\": 0.0025191855148867554, \"size\": 501187}, {\"kind\": \"Send\", \"per_call\": 0.00030946536524067644, \"size\": 501187}, {\"kind\": \"send\", \"per_call\": 0.002537094339636468, \"size\": 707945}, {\"kind\": \"Send\", \"per_call\": 0.00043944300001021473, \"size\": 707945}, {\"kind\": \"send\", \"per_call\": 0.004601920572895324, \"size\": 1000000}, {\"kind\": \"Send\", \"per_call\": 0.0007000161012394618, \"size\": 1000000}]}}, {\"mode\": \"vega-lite\"});\n",
       "</script>"
      ],
      "text/plain": [
       "alt.Chart(...)"
      ]
     },
     "execution_count": 9,
     "metadata": {},
     "output_type": "execute_result"
    }
   ],
   "source": [
    "alt.Chart(df).mark_line().encode(\n",
    "    x=alt.X(\"size\", scale=alt.Scale(type=\"log\")),\n",
    "    y=alt.Y(\"per_call\", scale=alt.Scale(type=\"log\")),\n",
    "    color=\"kind\",\n",
    ")"
   ]
  },
  {
   "cell_type": "markdown",
   "id": "a71ffbb6-2e02-4b7f-aa33-d200cf77cb49",
   "metadata": {},
   "source": [
    "We can also plot the 'speedup' or the ratio of how much quicker `Send` calls are than `send`:"
   ]
  },
  {
   "cell_type": "code",
   "execution_count": 10,
   "id": "aaeef9b8-5145-4f65-b6f3-5797665d79d0",
   "metadata": {
    "tags": []
   },
   "outputs": [
    {
     "data": {
      "text/html": [
       "\n",
       "<div id=\"altair-viz-595f152363fd4cb3a8c03d80b9c389bf\"></div>\n",
       "<script type=\"text/javascript\">\n",
       "  var VEGA_DEBUG = (typeof VEGA_DEBUG == \"undefined\") ? {} : VEGA_DEBUG;\n",
       "  (function(spec, embedOpt){\n",
       "    let outputDiv = document.currentScript.previousElementSibling;\n",
       "    if (outputDiv.id !== \"altair-viz-595f152363fd4cb3a8c03d80b9c389bf\") {\n",
       "      outputDiv = document.getElementById(\"altair-viz-595f152363fd4cb3a8c03d80b9c389bf\");\n",
       "    }\n",
       "    const paths = {\n",
       "      \"vega\": \"https://cdn.jsdelivr.net/npm//vega@5?noext\",\n",
       "      \"vega-lib\": \"https://cdn.jsdelivr.net/npm//vega-lib?noext\",\n",
       "      \"vega-lite\": \"https://cdn.jsdelivr.net/npm//vega-lite@4.17.0?noext\",\n",
       "      \"vega-embed\": \"https://cdn.jsdelivr.net/npm//vega-embed@6?noext\",\n",
       "    };\n",
       "\n",
       "    function maybeLoadScript(lib, version) {\n",
       "      var key = `${lib.replace(\"-\", \"\")}_version`;\n",
       "      return (VEGA_DEBUG[key] == version) ?\n",
       "        Promise.resolve(paths[lib]) :\n",
       "        new Promise(function(resolve, reject) {\n",
       "          var s = document.createElement('script');\n",
       "          document.getElementsByTagName(\"head\")[0].appendChild(s);\n",
       "          s.async = true;\n",
       "          s.onload = () => {\n",
       "            VEGA_DEBUG[key] = version;\n",
       "            return resolve(paths[lib]);\n",
       "          };\n",
       "          s.onerror = () => reject(`Error loading script: ${paths[lib]}`);\n",
       "          s.src = paths[lib];\n",
       "        });\n",
       "    }\n",
       "\n",
       "    function showError(err) {\n",
       "      outputDiv.innerHTML = `<div class=\"error\" style=\"color:red;\">${err}</div>`;\n",
       "      throw err;\n",
       "    }\n",
       "\n",
       "    function displayChart(vegaEmbed) {\n",
       "      vegaEmbed(outputDiv, spec, embedOpt)\n",
       "        .catch(err => showError(`Javascript Error: ${err.message}<br>This usually means there's a typo in your chart specification. See the javascript console for the full traceback.`));\n",
       "    }\n",
       "\n",
       "    if(typeof define === \"function\" && define.amd) {\n",
       "      requirejs.config({paths});\n",
       "      require([\"vega-embed\"], displayChart, err => showError(`Error loading script: ${err.message}`));\n",
       "    } else {\n",
       "      maybeLoadScript(\"vega\", \"5\")\n",
       "        .then(() => maybeLoadScript(\"vega-lite\", \"4.17.0\"))\n",
       "        .then(() => maybeLoadScript(\"vega-embed\", \"6\"))\n",
       "        .catch(showError)\n",
       "        .then(() => displayChart(vegaEmbed));\n",
       "    }\n",
       "  })({\"config\": {\"view\": {\"continuousWidth\": 400, \"continuousHeight\": 300}}, \"data\": {\"name\": \"data-b4d438b069c7e4f99edf34e76c056c5b\"}, \"mark\": \"line\", \"encoding\": {\"x\": {\"field\": \"size\", \"scale\": {\"type\": \"log\"}, \"type\": \"quantitative\"}, \"y\": {\"field\": \"speedup\", \"type\": \"quantitative\"}}, \"$schema\": \"https://vega.github.io/schema/vega-lite/v4.17.0.json\", \"datasets\": {\"data-b4d438b069c7e4f99edf34e76c056c5b\": [{\"size\": 1000, \"Send\": 3.225975486271545e-06, \"send\": 2.2871984765389698e-05, \"speedup\": 7.089943758941651}, {\"size\": 1412, \"Send\": 3.3031951914353157e-06, \"send\": 2.4853110575079506e-05, \"speedup\": 7.5239606304586095}, {\"size\": 1995, \"Send\": 3.5638417658643936e-06, \"send\": 2.872295379728405e-05, \"speedup\": 8.059548005863114}, {\"size\": 2818, \"Send\": 4.316519249117204e-06, \"send\": 3.302159162966703e-05, \"speedup\": 7.650050821948835}, {\"size\": 3981, \"Send\": 4.9805889008331825e-06, \"send\": 4.2766313640193105e-05, \"speedup\": 8.586597788273371}, {\"size\": 5623, \"Send\": 9.095299222737783e-06, \"send\": 5.520196492296452e-05, \"speedup\": 6.069285195693444}, {\"size\": 7943, \"Send\": 1.721752173000812e-05, \"send\": 6.583552467639063e-05, \"speedup\": 3.8237515078402393}, {\"size\": 11220, \"Send\": 2.4121679946898517e-05, \"send\": 4.539601173281743e-05, \"speedup\": 1.8819589610985739}, {\"size\": 15848, \"Send\": 1.4542158567188082e-05, \"send\": 5.5760478101657055e-05, \"speedup\": 3.834401739193735}, {\"size\": 22387, \"Send\": 1.719419478920723e-05, \"send\": 7.162394920455908e-05, \"speedup\": 4.165589030637092}, {\"size\": 31622, \"Send\": 2.302461528616437e-05, \"send\": 0.0001019435592000044, \"speedup\": 4.427590121832042}, {\"size\": 44668, \"Send\": 3.235662943849912e-05, \"send\": 0.00012504262452134958, \"speedup\": 3.8645132911331372}, {\"size\": 63095, \"Send\": 4.172280705178007e-05, \"send\": 0.00015879537879633895, \"speedup\": 3.8059610562459523}, {\"size\": 89125, \"Send\": 5.669679054029597e-05, \"send\": 0.00028823720397044546, \"speedup\": 5.083836337536378}, {\"size\": 125892, \"Send\": 8.35685267958401e-05, \"send\": 0.00043388900366696427, \"speedup\": 5.192014509564892}, {\"size\": 177827, \"Send\": 0.00011695381569404218, \"send\": 0.00047783503367929294, \"speedup\": 4.085672885862369}, {\"size\": 251188, \"Send\": 0.0001696032711876442, \"send\": 0.001227019993490382, \"speedup\": 7.234648158011305}, {\"size\": 354813, \"Send\": 0.0002244029509462356, \"send\": 0.001570540681820024, \"speedup\": 6.99875235685429}, {\"size\": 501187, \"Send\": 0.00030946536524067644, \"send\": 0.0025191855148867554, \"speedup\": 8.140444126687788}, {\"size\": 707945, \"Send\": 0.00043944300001021473, \"send\": 0.002537094339636468, \"speedup\": 5.773432139270608}, {\"size\": 1000000, \"Send\": 0.0007000161012394618, \"send\": 0.004601920572895324, \"speedup\": 6.57402103286921}]}}, {\"mode\": \"vega-lite\"});\n",
       "</script>"
      ],
      "text/plain": [
       "alt.Chart(...)"
      ]
     },
     "execution_count": 10,
     "metadata": {},
     "output_type": "execute_result"
    }
   ],
   "source": [
    "speedup_df = df.groupby([\"size\", \"kind\"]).per_call.first().unstack()\n",
    "speedup_df[\"speedup\"] = speedup_df[\"send\"] / speedup_df[\"Send\"]\n",
    "alt.Chart(speedup_df.reset_index()).mark_line().encode(\n",
    "    x=alt.X(\"size\", scale=alt.Scale(type=\"log\")),\n",
    "    y=\"speedup\",\n",
    ")"
   ]
  },
  {
   "cell_type": "markdown",
   "id": "254dcee5-57cf-48fd-82a2-c0d0b61bc0f8",
   "metadata": {},
   "source": [
    "So we can see that Send is ~3-9 times faster than `send` for numpy arrays.\n",
    "This is largely because we avoid additional memory allocations for every recv."
   ]
  },
  {
   "cell_type": "code",
   "execution_count": 11,
   "id": "1ef0812d-9661-40f2-8858-b1d0c3eba578",
   "metadata": {
    "tags": []
   },
   "outputs": [],
   "source": [
    "rc.cluster.stop_cluster_sync()"
   ]
  }
 ],
 "metadata": {
  "kernelspec": {
   "display_name": "Python 3 (ipykernel)",
   "language": "python",
   "name": "python3"
  },
  "language_info": {
   "codemirror_mode": {
    "name": "ipython",
    "version": 3
   },
   "file_extension": ".py",
   "mimetype": "text/x-python",
   "name": "python",
   "nbconvert_exporter": "python",
   "pygments_lexer": "ipython3",
   "version": "3.10.10"
  },
  "widgets": {
   "application/vnd.jupyter.widget-state+json": {
    "state": {
     "098e07ba86ca4531b501a0eefabf2156": {
      "model_module": "@jupyter-widgets/base",
      "model_module_version": "2.0.0",
      "model_name": "LayoutModel",
      "state": {}
     },
     "0c6d70c2ce2e4fa282249636c7651607": {
      "model_module": "@jupyter-widgets/base",
      "model_module_version": "2.0.0",
      "model_name": "LayoutModel",
      "state": {}
     },
     "1419108abb5f497ea95e3ef08069a140": {
      "model_module": "@jupyter-widgets/controls",
      "model_module_version": "2.0.0",
      "model_name": "HTMLModel",
      "state": {
       "layout": "IPY_MODEL_ee1f07cccced4ddab607c05fde57fbd4",
       "style": "IPY_MODEL_17627a0d26a34197bcba8a467b552e5f",
       "value": "100%"
      }
     },
     "17627a0d26a34197bcba8a467b552e5f": {
      "model_module": "@jupyter-widgets/controls",
      "model_module_version": "2.0.0",
      "model_name": "HTMLStyleModel",
      "state": {
       "description_width": "",
       "font_size": null,
       "text_color": null
      }
     },
     "2c29a3b3c6b04d008b081b0b48119101": {
      "model_module": "@jupyter-widgets/controls",
      "model_module_version": "2.0.0",
      "model_name": "HBoxModel",
      "state": {
       "children": [
        "IPY_MODEL_abfc7808386a465ea19e57aae1c9fa15",
        "IPY_MODEL_7dbf04bc6448407799c7889f315461a0",
        "IPY_MODEL_37c13e020bec4ad28748dcd4faa5578e"
       ],
       "layout": "IPY_MODEL_098e07ba86ca4531b501a0eefabf2156"
      }
     },
     "2f69c35d9e994af0bf2d4508fadb5c81": {
      "model_module": "@jupyter-widgets/base",
      "model_module_version": "2.0.0",
      "model_name": "LayoutModel",
      "state": {}
     },
     "37c13e020bec4ad28748dcd4faa5578e": {
      "model_module": "@jupyter-widgets/controls",
      "model_module_version": "2.0.0",
      "model_name": "HTMLModel",
      "state": {
       "layout": "IPY_MODEL_f6a5cc4c10e845e098d0d3836e059ee1",
       "style": "IPY_MODEL_49a03d34112347699abb29b12ce6d0ae",
       "value": " 2/2 [00:04&lt;00:00,  2.43s/tasks]"
      }
     },
     "39275f083b5a4c879e935dff59bedaaa": {
      "model_module": "@jupyter-widgets/controls",
      "model_module_version": "2.0.0",
      "model_name": "HTMLStyleModel",
      "state": {
       "description_width": "",
       "font_size": null,
       "text_color": null
      }
     },
     "49a03d34112347699abb29b12ce6d0ae": {
      "model_module": "@jupyter-widgets/controls",
      "model_module_version": "2.0.0",
      "model_name": "HTMLStyleModel",
      "state": {
       "description_width": "",
       "font_size": null,
       "text_color": null
      }
     },
     "7dbf04bc6448407799c7889f315461a0": {
      "model_module": "@jupyter-widgets/controls",
      "model_module_version": "2.0.0",
      "model_name": "FloatProgressModel",
      "state": {
       "bar_style": "success",
       "layout": "IPY_MODEL_83b5bd4437004902852e19638c1d8c53",
       "max": 2,
       "style": "IPY_MODEL_f5427f7fd4ab4d8d9db985ce328bdd69",
       "value": 2
      }
     },
     "80c8db934ef144d98eaef54847d904b2": {
      "model_module": "@jupyter-widgets/controls",
      "model_module_version": "2.0.0",
      "model_name": "HTMLModel",
      "state": {
       "layout": "IPY_MODEL_0c6d70c2ce2e4fa282249636c7651607",
       "style": "IPY_MODEL_39275f083b5a4c879e935dff59bedaaa",
       "value": " 21/21 [00:33&lt;00:00,  1.93s/it]"
      }
     },
     "83b5bd4437004902852e19638c1d8c53": {
      "model_module": "@jupyter-widgets/base",
      "model_module_version": "2.0.0",
      "model_name": "LayoutModel",
      "state": {}
     },
     "88cc894f676a4415b729a2ccaca3110e": {
      "model_module": "@jupyter-widgets/controls",
      "model_module_version": "2.0.0",
      "model_name": "FloatProgressModel",
      "state": {
       "bar_style": "success",
       "layout": "IPY_MODEL_2f69c35d9e994af0bf2d4508fadb5c81",
       "max": 21,
       "style": "IPY_MODEL_b2a7d654689d49f9b3d5b6f316626cae",
       "value": 21
      }
     },
     "a97a13e81a93410d854255eb32db2444": {
      "model_module": "@jupyter-widgets/controls",
      "model_module_version": "2.0.0",
      "model_name": "HTMLStyleModel",
      "state": {
       "description_width": "",
       "font_size": null,
       "text_color": null
      }
     },
     "abfc7808386a465ea19e57aae1c9fa15": {
      "model_module": "@jupyter-widgets/controls",
      "model_module_version": "2.0.0",
      "model_name": "HTMLModel",
      "state": {
       "layout": "IPY_MODEL_d862a16011c14e49bbb5bdc967fa95b2",
       "style": "IPY_MODEL_a97a13e81a93410d854255eb32db2444",
       "value": "%px: 100%"
      }
     },
     "ad5ef09b7d1548b39164606084b39ac1": {
      "model_module": "@jupyter-widgets/base",
      "model_module_version": "2.0.0",
      "model_name": "LayoutModel",
      "state": {}
     },
     "b2a7d654689d49f9b3d5b6f316626cae": {
      "model_module": "@jupyter-widgets/controls",
      "model_module_version": "2.0.0",
      "model_name": "ProgressStyleModel",
      "state": {
       "description_width": ""
      }
     },
     "d862a16011c14e49bbb5bdc967fa95b2": {
      "model_module": "@jupyter-widgets/base",
      "model_module_version": "2.0.0",
      "model_name": "LayoutModel",
      "state": {}
     },
     "ea1a578b92e04a919bd0d79eb4ae67d7": {
      "model_module": "@jupyter-widgets/controls",
      "model_module_version": "2.0.0",
      "model_name": "HBoxModel",
      "state": {
       "children": [
        "IPY_MODEL_1419108abb5f497ea95e3ef08069a140",
        "IPY_MODEL_88cc894f676a4415b729a2ccaca3110e",
        "IPY_MODEL_80c8db934ef144d98eaef54847d904b2"
       ],
       "layout": "IPY_MODEL_ad5ef09b7d1548b39164606084b39ac1"
      }
     },
     "ee1f07cccced4ddab607c05fde57fbd4": {
      "model_module": "@jupyter-widgets/base",
      "model_module_version": "2.0.0",
      "model_name": "LayoutModel",
      "state": {}
     },
     "f5427f7fd4ab4d8d9db985ce328bdd69": {
      "model_module": "@jupyter-widgets/controls",
      "model_module_version": "2.0.0",
      "model_name": "ProgressStyleModel",
      "state": {
       "description_width": ""
      }
     },
     "f6a5cc4c10e845e098d0d3836e059ee1": {
      "model_module": "@jupyter-widgets/base",
      "model_module_version": "2.0.0",
      "model_name": "LayoutModel",
      "state": {}
     }
    },
    "version_major": 2,
    "version_minor": 0
   }
  }
 },
 "nbformat": 4,
 "nbformat_minor": 5
}
