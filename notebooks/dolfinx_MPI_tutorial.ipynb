{
 "cells": [
  {
   "cell_type": "markdown",
   "id": "d29c16a2",
   "metadata": {},
   "source": [
    "### MPI Tutorial\n"
   ]
  },
  {
   "cell_type": "code",
   "execution_count": 1,
   "id": "a6f541fd",
   "metadata": {
    "tags": []
   },
   "outputs": [],
   "source": [
    "## Imports\n",
    "import ipyparallel as ipp\n",
    "import dolfinx     as dfx\n",
    "\n",
    "from mpi4py import MPI\n"
   ]
  },
  {
   "cell_type": "code",
   "execution_count": 2,
   "id": "3c140fdc",
   "metadata": {
    "tags": []
   },
   "outputs": [
    {
     "name": "stdout",
     "output_type": "stream",
     "text": [
      "Starting 2 engines with <class 'ipyparallel.cluster.launcher.MPIEngineSetLauncher'>\n"
     ]
    },
    {
     "name": "stderr",
     "output_type": "stream",
     "text": [
      "INFO:ipyparallel.cluster.cluster.1681374962-bxss:Starting 2 engines with <class 'ipyparallel.cluster.launcher.MPIEngineSetLauncher'>\n"
     ]
    },
    {
     "data": {
      "application/vnd.jupyter.widget-view+json": {
       "model_id": "d44e5817ce2244adac315baba95a4170",
       "version_major": 2,
       "version_minor": 0
      },
      "text/plain": [
       "  0%|          | 0/2 [00:00<?, ?engine/s]"
      ]
     },
     "metadata": {},
     "output_type": "display_data"
    }
   ],
   "source": [
    "cluster = ipp.Cluster(engines = \"mpi\", n = 2)\n",
    "rc = cluster.start_and_connect_sync()"
   ]
  },
  {
   "cell_type": "code",
   "execution_count": 3,
   "id": "56abec32",
   "metadata": {
    "tags": []
   },
   "outputs": [],
   "source": [
    "dv = rc[:]"
   ]
  },
  {
   "cell_type": "markdown",
   "id": "4b3edba2-7703-45db-aa6f-a3d66335eb41",
   "metadata": {},
   "source": [
    "#### Running two processes in parallel with the %%px magic command.\n",
    "When using MPI a communicator must be specified. COMM_WORLD is a global communicator that contains all processes that the local rank can communicate with at initialization. COMM_SELF is a communicator local to a process."
   ]
  },
  {
   "cell_type": "code",
   "execution_count": 4,
   "id": "808dc4e9-f83e-4d3d-839a-086a13073ee5",
   "metadata": {
    "tags": []
   },
   "outputs": [
    {
     "data": {
      "text/plain": [
       "[stdout:0] Hello World from rank 0 of 2\n"
      ]
     },
     "metadata": {},
     "output_type": "display_data"
    },
    {
     "data": {
      "text/plain": [
       "[stdout:1] Hello World from rank 1 of 2\n"
      ]
     },
     "metadata": {},
     "output_type": "display_data"
    }
   ],
   "source": [
    "%%px\n",
    "comm = MPI.COMM_WORLD # MPI communicator\n",
    "# Print Hello World from all processors\n",
    "print(f\"Hello World from rank {comm.rank} of {comm.size}\")"
   ]
  },
  {
   "cell_type": "markdown",
   "id": "ebe44074-21a6-4eb4-8f77-864f540ebd60",
   "metadata": {},
   "source": [
    "#### Communication between two processors."
   ]
  },
  {
   "cell_type": "code",
   "execution_count": 5,
   "id": "d2f2a27d-3ede-4a11-9319-2dc8c31c1410",
   "metadata": {
    "tags": []
   },
   "outputs": [
    {
     "data": {
      "text/plain": [
       "[stdout:0] Rank 0, num1 = 5\n"
      ]
     },
     "metadata": {},
     "output_type": "display_data"
    },
    {
     "data": {
      "text/plain": [
       "[stdout:1] Rank 1, num3 = num1 + num2 = 8\n"
      ]
     },
     "metadata": {},
     "output_type": "display_data"
    }
   ],
   "source": [
    "%%px \n",
    "comm = MPI.COMM_WORLD # MPI communicator\n",
    "\n",
    "if comm.rank == 0:\n",
    "    # Send num1 from processor 1 to 2\n",
    "    num1 = 5\n",
    "    comm.send(num1, dest = 1, tag = 1)\n",
    "    print(f\"Rank {comm.rank}, num1 = {num1}\")\n",
    "    \n",
    "elif comm.rank == 1:\n",
    "    # Receive num1 from processor 1, add num3 = num1 + num2 and print num3\n",
    "    num2 = 3\n",
    "    num1 = comm.recv(source = 0, tag = 1)\n",
    "    num3 = num1 + num2\n",
    "    print(f\"Rank {comm.rank}, num3 = num1 + num2 = {num3}\")"
   ]
  },
  {
   "cell_type": "markdown",
   "id": "00910f35-9df6-4f43-a7a2-5065b6f1b869",
   "metadata": {},
   "source": [
    "#### MPI communication in DOLFINx with mpi4py.\n",
    "When constructing a mesh in DOLFINx, the type of communicator must be specified. The mesh is partitioned and distributed over different processes.\n",
    "\n",
    "A parameter 'ghost_mode' must be specified. This determines how "
   ]
  },
  {
   "cell_type": "code",
   "execution_count": 6,
   "id": "09fec8d4-2f90-4c5c-89fe-b32e8c78cdf8",
   "metadata": {
    "tags": []
   },
   "outputs": [
    {
     "data": {
      "text/plain": [
       "[stdout:1] Rank 1: Number of local cells: 4\n",
       "Rank 1: Number of global cells: 8\n",
       "Cell (dim = 2) to vertex (dim = 0) connectivity:\n",
       "Rank 1: <AdjacencyList> with 6 nodes\n",
       "  0: [5 0 1 ]\n",
       "  1: [0 1 2 ]\n",
       "  2: [0 3 2 ]\n",
       "  3: [1 2 4 ]\n",
       "  4: [5 6 1 ]\n",
       "  5: [1 7 4 ]\n",
       "\n",
       "Rank 1: Ghost cells (global numbering): [0 3]\n"
      ]
     },
     "metadata": {},
     "output_type": "display_data"
    },
    {
     "data": {
      "text/plain": [
       "[stdout:0] Rank 0: Number of local cells: 4\n",
       "Rank 0: Number of global cells: 8\n",
       "Cell (dim = 2) to vertex (dim = 0) connectivity:\n",
       "Rank 0: <AdjacencyList> with 6 nodes\n",
       "  0: [0 1 4 ]\n",
       "  1: [1 4 2 ]\n",
       "  2: [1 3 2 ]\n",
       "  3: [4 2 5 ]\n",
       "  4: [0 6 4 ]\n",
       "  5: [4 7 5 ]\n",
       "\n",
       "Rank 0: Ghost cells (global numbering): [4 7]\n"
      ]
     },
     "metadata": {},
     "output_type": "display_data"
    }
   ],
   "source": [
    "%%px\n",
    "import dolfinx as dfx\n",
    "import dolfinx.io\n",
    "comm = MPI.COMM_WORLD # MPI communicator\n",
    "\n",
    "Nx, Ny = 2, 2 # Mesh size\n",
    "\n",
    "# Create a unit square mesh\n",
    "mesh = dfx.mesh.create_unit_square(comm, Nx, Ny, ghost_mode = dfx.cpp.mesh.GhostMode.shared_facet)\n",
    "mesh.topology.create_connectivity(0, 2)\n",
    "mesh.topology.create_connectivity(1, 2)\n",
    "mesh.topology.create_connectivity(2, 1)\n",
    "mesh.topology.create_connectivity(2, 0)\n",
    "mesh.topology.create_connectivity(0, 1)\n",
    "mesh.topology.create_connectivity(1, 0)\n",
    "\n",
    "def mpi_print(s):\n",
    "    print(f\"Rank {comm.rank}: {s}\")\n",
    "\n",
    "mpi_print(f\"Number of local cells: {mesh.topology.index_map(2).size_local}\")\n",
    "mpi_print(f\"Number of global cells: {mesh.topology.index_map(2).size_global}\")\n",
    "print(\"Cell (dim = 2) to vertex (dim = 0) connectivity:\")\n",
    "mpi_print(mesh.topology.connectivity(2, 0))\n",
    "\n",
    "\n",
    "if comm.size == 1:\n",
    "    print(\"Cell (dim = 2) to facet (dim = 1) connectivity:\")\n",
    "    mpi_print(mesh.topology.connectivity(2, 1))\n",
    "\n",
    "if comm.size == 2:\n",
    "    mpi_print(f\"Ghost cells (global numbering): {mesh.topology.index_map(2).ghosts}\")\n",
    "    #mpi_print(f\"Ghost owner rank: {mesh.topology.index_map(2).ghost_owner_rank()}\")\n",
    "\n",
    "          "
   ]
  },
  {
   "cell_type": "markdown",
   "id": "90adf486-bcba-4259-b93f-77080d9cb6cc",
   "metadata": {
    "tags": []
   },
   "source": [
    "#### Dolfinx function spaces.\n",
    "The degrees of freedom of a function space in dolfinx is distributed over the nodes of the mesh."
   ]
  },
  {
   "cell_type": "code",
   "execution_count": 7,
   "id": "ca8b487d-09e4-45c4-bd90-784f511f74d3",
   "metadata": {
    "tags": []
   },
   "outputs": [
    {
     "data": {
      "text/plain": [
       "[stdout:1] Global dofmap size: 9\n",
       "Local dofmap size: 5\n",
       "Ghosts: [0 1 2]\n"
      ]
     },
     "metadata": {},
     "output_type": "display_data"
    },
    {
     "data": {
      "text/plain": [
       "[stdout:0] Global dofmap size: 9\n",
       "Local dofmap size: 4\n",
       "Ghosts: [5 8 4 6]\n"
      ]
     },
     "metadata": {},
     "output_type": "display_data"
    }
   ],
   "source": [
    "%%px\n",
    "import dolfinx as dfx\n",
    "\n",
    "comm = MPI.COMM_WORLD # MPI communicator\n",
    "\n",
    "Nx, Ny = 2, 2 # Mesh size\n",
    "\n",
    "# Create a unit square mesh\n",
    "mesh = dfx.mesh.create_unit_square(comm, Nx, Ny, ghost_mode = dfx.cpp.mesh.GhostMode.shared_facet)\n",
    "V = dfx.fem.FunctionSpace(mesh, (\"CG\", 1))\n",
    "\n",
    "print(f\"Global dofmap size: {V.dofmap.index_map.size_global}\")\n",
    "print(f\"Local dofmap size: {V.dofmap.index_map.size_local}\")\n",
    "print(f\"Ghosts: {V.dofmap.index_map.ghosts}\")"
   ]
  },
  {
   "cell_type": "markdown",
   "id": "e2a6141a-5fb2-44c8-a8c9-2f1b035039e4",
   "metadata": {},
   "source": [
    "#### Dolfinx functions.\n",
    "The degrees of freedom of a dolfinx function is distributed over the nodes of the mesh. PETSc vector represantations of dolfinx functions have the attribute .localForm(), which can be used to access a local array with space for both owned and local degrees of freedom."
   ]
  },
  {
   "cell_type": "code",
   "execution_count": 8,
   "id": "8fa7a806-d9ee-405c-965e-6fec591e028c",
   "metadata": {
    "tags": []
   },
   "outputs": [
    {
     "data": {
      "text/plain": [
       "[stdout:1] 5 3\n",
       "Local size of vector: 5\n",
       "Local + Ghost size of vector: 8\n"
      ]
     },
     "metadata": {},
     "output_type": "display_data"
    },
    {
     "data": {
      "text/plain": [
       "[stdout:0] 4 4\n",
       "Local size of vector: 4\n",
       "Local + Ghost size of vector: 8\n"
      ]
     },
     "metadata": {},
     "output_type": "display_data"
    }
   ],
   "source": [
    "%%px\n",
    "\n",
    "comm = MPI.COMM_WORLD # MPI communicator\n",
    "\n",
    "Nx, Ny = 2, 2 # Mesh size\n",
    "\n",
    "# Create a unit square mesh\n",
    "mesh = dfx.mesh.create_unit_square(comm, Nx, Ny, ghost_mode = dfx.cpp.mesh.GhostMode.shared_facet)\n",
    "V = dfx.fem.FunctionSpace(mesh, (\"CG\", 1))\n",
    "u = dfx.fem.Function(V)\n",
    "\n",
    "print(V.dofmap.index_map.size_local*V.dofmap.index_map_bs, V.dofmap.index_map.num_ghosts*V.dofmap.index_map_bs)\n",
    "u_vec = u.vector\n",
    "\n",
    "print(f\"Local size of vector: {u_vec.getLocalSize()}\")\n",
    "\n",
    "# .localForm() can be used to access a local array with space for both owned and local degrees of freedom\n",
    "with u_vec.localForm() as u_local:\n",
    "    print(f\"Local + Ghost size of vector: {u_local.getLocalSize()}\")\n",
    "\n",
    "u_vec.ghostUpdate()"
   ]
  },
  {
   "cell_type": "markdown",
   "id": "0f671131-50fe-4aeb-bb00-1454fd3de745",
   "metadata": {},
   "source": [
    "#### Assembling scalars, vectors, matrices.\n",
    "Example: assembling a vector in parallel."
   ]
  },
  {
   "cell_type": "code",
   "execution_count": 9,
   "id": "230c3bb9-3b52-4450-870a-f2d8541b6457",
   "metadata": {
    "tags": []
   },
   "outputs": [
    {
     "data": {
      "text/plain": [
       "[stdout:0] 3 1\n",
       "Prior to communication\n",
       "Rank: 0: [0.16666667 0.08333333 0.08333333 0.16666667]\n",
       "After ADD/REVERSE update\n",
       "Rank: 0: [0.16666667 0.25       0.08333333 0.16666667]\n",
       "After INSERT/FORWARD update\n",
       "Rank: 0: [0.16666667 0.25       0.08333333 0.25      ]\n"
      ]
     },
     "metadata": {},
     "output_type": "display_data"
    },
    {
     "data": {
      "text/plain": [
       "[stdout:1] 3 1\n",
       "Prior to communication\n",
       "Rank: 1: [0.08333333 0.16666667 0.08333333 0.16666667]\n",
       "After ADD/REVERSE update\n",
       "Rank: 1: [0.08333333 0.16666667 0.25       0.16666667]\n",
       "After INSERT/FORWARD update\n",
       "Rank: 1: [0.08333333 0.16666667 0.25       0.25      ]\n"
      ]
     },
     "metadata": {},
     "output_type": "display_data"
    }
   ],
   "source": [
    "%%px\n",
    "import ufl\n",
    "from petsc4py import PETSc\n",
    "comm = MPI.COMM_WORLD # MPI communicator\n",
    "\n",
    "Nx, Ny = 2, 1 # Mesh size\n",
    "\n",
    "# Create a unit square mesh\n",
    "mesh = dfx.mesh.create_unit_square(comm, Nx, Ny, ghost_mode = dfx.cpp.mesh.GhostMode.none)\n",
    "\n",
    "# Create a first-order Lagrange finite element space\n",
    "V = dfx.fem.FunctionSpace(mesh, (\"CG\", 1))\n",
    "\n",
    "# Trial and test functions\n",
    "u = ufl.TrialFunction(V)\n",
    "v = ufl.TestFunction (V)\n",
    "\n",
    "# UFL form of right-hand side\n",
    "L = ufl.inner(1.0, v) * ufl.dx\n",
    "L = dfx.fem.form(L)\n",
    "\n",
    "# Assemble UFL form into a vector\n",
    "_b = dfx.fem.Function(V)\n",
    "dfx.fem.petsc.assemble_vector(_b.vector, L)\n",
    "_b.x.scatter_forward\n",
    "\n",
    "# Print the size of the index map and the number of ghost nodes\n",
    "print(V.dofmap.index_map.size_local*V.dofmap.index_map_bs, V.dofmap.index_map.num_ghosts*V.dofmap.index_map_bs)\n",
    "\n",
    "print(\"Prior to communication\")\n",
    "print(f\"Rank: {comm.rank}: {_b.x.array}\")   \n",
    "# Add values from ghost regions and accumulate them on the owning process\n",
    "_b.x.scatter_reverse(dfx.la.ScatterMode.add)\n",
    "\n",
    "#_b.vector.ghostUpdate(addv = PETSc.InsertMode.ADD, mode = PETSc.ScatterMode.REVERSE)\n",
    "\n",
    "print(\"After ADD/REVERSE update\")\n",
    "print(f\"Rank: {comm.rank}: {_b.x.array}\")   \n",
    "\n",
    "# Ghost points still not updated, so their values are inconsistent\n",
    "# Get value from owning process and update the ghosts\n",
    "_b.x.scatter_forward()\n",
    "#_b.ghostUpdate(addv = PETSc.InsertMode.INSERT, mode = PETSc.ScatterMode.FORWARD)\n",
    "\n",
    "print(\"After INSERT/FORWARD update\")\n",
    "print(f\"Rank: {comm.rank}: {_b.x.array}\")   \n"
   ]
  },
  {
   "cell_type": "markdown",
   "id": "8d082121-d6c1-4e77-8e6d-58bfd2817fe9",
   "metadata": {},
   "source": [
    "### Solving a variational problem\n",
    "We will consider solving a Poisson problem on the unit square domain, denoted $\\Omega$. The strong form of the problem is: determine $u$ such that\n",
    "\\begin{align}\n",
    "    -\\nabla^2 u &= f \\quad \\mathrm{in} \\ \\Omega, \\\\\n",
    "    u &= g \\quad \\mathrm{on} \\ \\partial\\Omega,\n",
    "\\end{align}\n",
    "where $\\partial\\Omega$ is the boundary of the domain. The weak form of the problem is derived by multiplying the PDE with a test function $v$, integrating over the domain and applying integration by parts. This yields\n",
    "\n",
    "$$\\int_{\\Omega} \\nabla u \\cdot \\nabla v dx = \\int_{\\Omega}f v dx$$\n",
    "\n",
    "where the boundary integral vanishes because $v = 0$ on the boundary due to the Dirichlet boundary condition. For simplicity we set $g = 0$."
   ]
  },
  {
   "cell_type": "code",
   "execution_count": 25,
   "id": "1bd0b245-b1e4-4d1f-9e11-a12e652a4bcb",
   "metadata": {
    "tags": []
   },
   "outputs": [
    {
     "data": {
      "text/plain": [
       "[stdout:1] u_h array: [0. 0. 0. 0.]\n",
       "u_h array after communication: [0. 0. 0. 0.]\n",
       "3 1\n",
       "Prior to communication\n",
       "Rank: 1: [0.         0.         0.         0.16666667]\n",
       "After ADD/REVERSE update\n",
       "Rank: 1: [0.         0.         0.16666667 0.16666667]\n",
       "After INSERT/FORWARD update\n",
       "Rank: 1: [0.         0.         0.16666667 0.16666667]\n"
      ]
     },
     "metadata": {},
     "output_type": "display_data"
    },
    {
     "data": {
      "text/plain": [
       "[stdout:0] u_h array: [0. 0. 0. 0.]\n",
       "u_h array after communication: [0. 0. 0. 0.]\n",
       "3 1\n",
       "Prior to communication\n",
       "Rank: 0: [0.         0.         0.         0.16666667]\n",
       "After ADD/REVERSE update\n",
       "Rank: 0: [0.         0.16666667 0.         0.16666667]\n",
       "After INSERT/FORWARD update\n",
       "Rank: 0: [0.         0.16666667 0.         0.16666667]\n"
      ]
     },
     "metadata": {},
     "output_type": "display_data"
    }
   ],
   "source": [
    "%%px\n",
    "import ufl\n",
    "from petsc4py import PETSc\n",
    "comm = MPI.COMM_WORLD # MPI communicator\n",
    "\n",
    "Nx, Ny = 2, 1 # Mesh size\n",
    "\n",
    "# Create a unit square mesh\n",
    "mesh = dfx.mesh.create_unit_square(comm, Nx, Ny, ghost_mode = dfx.cpp.mesh.GhostMode.none)\n",
    "mesh.topology.create_entities(mesh.topology.dim - 1)\n",
    "mesh.topology.create_connectivity(mesh.topology.dim - 1, mesh.topology.dim)\n",
    "\n",
    "# Create a first-order Lagrange finite element space\n",
    "V = dfx.fem.FunctionSpace(mesh, (\"CG\", 1))\n",
    "\n",
    "# Trial and test functions\n",
    "u = ufl.TrialFunction(V)\n",
    "v = ufl.TestFunction (V)\n",
    "\n",
    "u_h = dfx.fem.Function(V) # Solution function\n",
    "\n",
    "f = dfx.fem.Function(V) # Source term\n",
    "f.x.set(1) # Set function value to 1\n",
    "\n",
    "\n",
    "# UFL form of the bilinear form\n",
    "a = ufl.inner(ufl.grad(u), ufl.grad(v)) * ufl.dx\n",
    "bilinear_form = dfx.fem.form(a)\n",
    "\n",
    "# UFL form of right-hand side\n",
    "L = f * v * ufl.dx\n",
    "linear_form = dfx.fem.form(L)\n",
    "\n",
    "# Boundary condition function\n",
    "g = dfx.fem.Function(V) # Dolfinx function, default function value = 0\n",
    "\n",
    "# Get the dofs of the boundary facets\n",
    "boundary_facets = dfx.mesh.exterior_facet_indices(mesh.topology)\n",
    "boundary_dofs   = dfx.fem.locate_dofs_topological(V, mesh.topology.dim - 1, boundary_facets)\n",
    "bc_g = dfx.fem.dirichletbc(g, boundary_dofs)\n",
    "\n",
    "bcs = [bc_g]\n",
    "\n",
    "# Assemble matrix from the bilinear form\n",
    "A = dfx.fem.petsc.assemble_matrix(bilinear_form, bcs = bcs)\n",
    "A.assemble()\n",
    "\n",
    "# Assemble UFL form into a vector\n",
    "_b = dfx.fem.Function(V) # Dolfinx function of right-hand side\n",
    "dfx.fem.petsc.assemble_vector(_b.vector, linear_form)\n",
    "dfx.fem.petsc.apply_lifting(_b.vector, [bilinear_form], bcs = [bcs])\n",
    "_b.x.scatter_reverse(dfx.la.ScatterMode.add)\n",
    "dfx.fem.petsc.set_bc(_b.vector, bcs = bcs)\n",
    "\n",
    "# Create a (direct) linear solver\n",
    "solver = PETSc.KSP().create(mesh.comm)\n",
    "solver.setOperators(A)\n",
    "solver.setType(\"preonly\")\n",
    "solver.getPC().setType(\"lu\")\n",
    "solver.getPC().setFactorSolverType(\"mumps\")\n",
    "\n",
    "# Solve the variational problem\n",
    "solver.solve(_b.vector, u_h.vector)\n",
    "\n",
    "\n",
    "print(\"u_h array:\", u_h.x.array)\n",
    "u_h.x.scatter_reverse(dfx.la.ScatterMode.add)\n",
    "u_h.x.scatter_forward()\n",
    "\n",
    "print(\"u_h array after communication:\", u_h.x.array)\n",
    "\n",
    "# Print the size of the index map and the number of ghost nodes\n",
    "print(V.dofmap.index_map.size_local*V.dofmap.index_map_bs, V.dofmap.index_map.num_ghosts*V.dofmap.index_map_bs)\n",
    "\n",
    "print(\"Prior to communication\")\n",
    "print(f\"Rank: {comm.rank}: {_b.x.array}\")   \n",
    "# Add values from ghost regions and accumulate them on the owning process\n",
    "_b.x.scatter_reverse(dfx.la.ScatterMode.add)\n",
    "\n",
    "#_b.vector.ghostUpdate(addv = PETSc.InsertMode.ADD, mode = PETSc.ScatterMode.REVERSE)\n",
    "\n",
    "print(\"After ADD/REVERSE update\")\n",
    "print(f\"Rank: {comm.rank}: {_b.x.array}\")   \n",
    "\n",
    "# Ghost points still not updated, so their values are inconsistent\n",
    "# Get value from owning process and update the ghosts\n",
    "_b.x.scatter_forward()\n",
    "#_b.ghostUpdate(addv = PETSc.InsertMode.INSERT, mode = PETSc.ScatterMode.FORWARD)\n",
    "\n",
    "print(\"After INSERT/FORWARD update\")\n",
    "print(f\"Rank: {comm.rank}: {_b.x.array}\")   \n"
   ]
  },
  {
   "cell_type": "code",
   "execution_count": null,
   "id": "1cb52086-b014-4ab3-8e6d-09f71eb2bb99",
   "metadata": {},
   "outputs": [],
   "source": []
  },
  {
   "cell_type": "code",
   "execution_count": null,
   "id": "e7d00d30-187b-4e6d-801a-2fc663de7425",
   "metadata": {},
   "outputs": [],
   "source": []
  }
 ],
 "metadata": {
  "kernelspec": {
   "display_name": "Python 3 (ipykernel)",
   "language": "python",
   "name": "python3"
  },
  "language_info": {
   "codemirror_mode": {
    "name": "ipython",
    "version": 3
   },
   "file_extension": ".py",
   "mimetype": "text/x-python",
   "name": "python",
   "nbconvert_exporter": "python",
   "pygments_lexer": "ipython3",
   "version": "3.10.7"
  }
 },
 "nbformat": 4,
 "nbformat_minor": 5
}
