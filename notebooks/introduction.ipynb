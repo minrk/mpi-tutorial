{
 "cells": [
  {
   "cell_type": "markdown",
   "id": "f8ed5686",
   "metadata": {},
   "source": [
    "# First notebook"
   ]
  },
  {
   "cell_type": "code",
   "execution_count": 1,
   "id": "6b50a74a-5b21-4109-b629-b8bb7860810b",
   "metadata": {},
   "outputs": [
    {
     "name": "stdout",
     "output_type": "stream",
     "text": [
      "Starting 2 engines with <class 'ipyparallel.cluster.launcher.MPIEngineSetLauncher'>\n",
      "100%|███████████████████████████████████████████████████████████████████████████████████████████████████████████████████████████████████████████| 2/2 [00:06<00:00,  3.41s/engine]\n"
     ]
    }
   ],
   "source": [
    "import ipyparallel as ipp\n",
    "cluster = ipp.Cluster(engines=\"mpi\", n=2)\n",
    "rc = cluster.start_and_connect_sync()\n"
   ]
  },
  {
   "cell_type": "code",
   "execution_count": 2,
   "id": "6034b913",
   "metadata": {},
   "outputs": [
    {
     "data": {
      "text/plain": [
       "[stdout:1] MPI.COMM_WORLD.rank=1 MPI.COMM_WORLD.size=2\n"
      ]
     },
     "metadata": {},
     "output_type": "display_data"
    },
    {
     "data": {
      "text/plain": [
       "[stdout:0] MPI.COMM_WORLD.rank=0 MPI.COMM_WORLD.size=2\n"
      ]
     },
     "metadata": {},
     "output_type": "display_data"
    }
   ],
   "source": [
    "%%px\n",
    "from mpi4py import MPI\n",
    "\n",
    "\n",
    "print(f\"{MPI.COMM_WORLD.rank=} {MPI.COMM_WORLD.size=}\")\n"
   ]
  },
  {
   "cell_type": "markdown",
   "id": "c1857c67",
   "metadata": {},
   "source": [
    "## Scatter and gather"
   ]
  },
  {
   "cell_type": "code",
   "execution_count": 3,
   "id": "37bbde90",
   "metadata": {},
   "outputs": [
    {
     "data": {
      "text/plain": [
       "[stdout:0] Hello, World! I am process 0 of 2 on sidneysimula\n",
       "\n",
       "I am the root process 0 and I will send (scatter) one number to each of the processes, then they are going to multiply it by 2 and send them back to me (gather).\n",
       "These are the numbers I will send to the other 2 process(es): [1, 4]\n",
       "\n",
       "This is the resulting list of numbers: [2, 8]\n"
      ]
     },
     "metadata": {},
     "output_type": "display_data"
    },
    {
     "data": {
      "text/plain": [
       "[stdout:1] Hello, World! I am process 1 of 2 on sidneysimula\n"
      ]
     },
     "metadata": {},
     "output_type": "display_data"
    }
   ],
   "source": [
    "%%px\n",
    "# Based on: https://medium.com/@mathcube7/parallel-computing-in-python-c55c87c36611\n",
    "\n",
    "comm = MPI.COMM_WORLD\n",
    "size = comm.Get_size()\n",
    "rank = comm.Get_rank()\n",
    "print(\"Hello, World! I am process\", rank, \"of\", size, \"on\", MPI.Get_processor_name())\n",
    "if rank == 0:\n",
    "    data = [(i+1)**2 for i in range(size)]\n",
    "    print(\"\")\n",
    "    print(\"I am the root process\", rank, \"and I will send (scatter) one number to each of the processes, then they are going to multiply it by 2 and send them back to me (gather).\")\n",
    "    print(\"These are the numbers I will send to the other\", size, \"process(es):\", data)\n",
    "    print(\"\")\n",
    "else:\n",
    "    data = None\n",
    "\n",
    "# Scattering data to other processes from process 0\n",
    "scattered_data = comm.scatter(data, root=0)\n",
    "\n",
    "# Each process will multiply the data they received\n",
    "scattered_data = scattered_data * 2\n",
    "\n",
    "# Gathering data in process 0\n",
    "gathered_data = comm.gather(scattered_data, root=0)\n",
    "if rank == 0:\n",
    "    print(\"This is the resulting list of numbers:\", gathered_data)"
   ]
  },
  {
   "cell_type": "code",
   "execution_count": null,
   "id": "92f9e043",
   "metadata": {},
   "outputs": [],
   "source": []
  }
 ],
 "metadata": {
  "kernelspec": {
   "display_name": "Python 3 (ipykernel)",
   "language": "python",
   "name": "python3"
  },
  "language_info": {
   "codemirror_mode": {
    "name": "ipython",
    "version": 3
   },
   "file_extension": ".py",
   "mimetype": "text/x-python",
   "name": "python",
   "nbconvert_exporter": "python",
   "pygments_lexer": "ipython3",
   "version": "3.10.8"
  }
 },
 "nbformat": 4,
 "nbformat_minor": 5
}
