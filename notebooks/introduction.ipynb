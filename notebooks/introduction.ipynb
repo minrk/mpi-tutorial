{
 "cells": [
  {
   "attachments": {},
   "cell_type": "markdown",
   "id": "f8ed5686",
   "metadata": {},
   "source": [
    "# First notebook"
   ]
  },
  {
   "cell_type": "code",
   "execution_count": 1,
   "id": "6b50a74a-5b21-4109-b629-b8bb7860810b",
   "metadata": {},
   "outputs": [
    {
     "name": "stdout",
     "output_type": "stream",
     "text": [
      "Starting 2 engines with <class 'ipyparallel.cluster.launcher.MPIEngineSetLauncher'>\n",
      "100%|██████████| 2/2 [00:05<00:00,  2.75s/engine]\n"
     ]
    }
   ],
   "source": [
    "import ipyparallel as ipp\n",
    "cluster = ipp.Cluster(engines=\"mpi\", n=2)\n",
    "rc = cluster.start_and_connect_sync()\n"
   ]
  },
  {
   "cell_type": "code",
   "execution_count": 2,
   "id": "6034b913",
   "metadata": {},
   "outputs": [
    {
     "data": {
      "text/plain": [
       "[stdout:0] MPI.COMM_WORLD.rank=0 MPI.COMM_WORLD.size=2\n"
      ]
     },
     "metadata": {},
     "output_type": "display_data"
    },
    {
     "data": {
      "text/plain": [
       "[stdout:1] MPI.COMM_WORLD.rank=1 MPI.COMM_WORLD.size=2\n"
      ]
     },
     "metadata": {},
     "output_type": "display_data"
    }
   ],
   "source": [
    "%%px\n",
    "from mpi4py import MPI\n",
    "\n",
    "\n",
    "print(f\"{MPI.COMM_WORLD.rank=} {MPI.COMM_WORLD.size=}\")\n"
   ]
  },
  {
   "cell_type": "code",
   "execution_count": null,
   "id": "4f760892",
   "metadata": {},
   "outputs": [],
   "source": []
  }
 ],
 "metadata": {
  "kernelspec": {
   "display_name": "Python 3 (ipykernel)",
   "language": "python",
   "name": "python3"
  },
  "language_info": {
   "codemirror_mode": {
    "name": "ipython",
    "version": 3
   },
   "file_extension": ".py",
   "mimetype": "text/x-python",
   "name": "python",
   "nbconvert_exporter": "python",
   "pygments_lexer": "ipython3",
   "version": "3.10.6"
  }
 },
 "nbformat": 4,
 "nbformat_minor": 5
}
